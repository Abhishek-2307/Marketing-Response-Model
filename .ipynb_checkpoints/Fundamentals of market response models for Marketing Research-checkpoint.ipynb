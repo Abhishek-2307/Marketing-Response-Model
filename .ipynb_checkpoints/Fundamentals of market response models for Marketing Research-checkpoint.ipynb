{
 "cells": [
  {
   "cell_type": "markdown",
   "metadata": {},
   "source": [
    "## Importing Modules"
   ]
  },
  {
   "cell_type": "markdown",
   "metadata": {},
   "source": [
    "## Importing Modules"
   ]
  },
  {
   "cell_type": "code",
   "execution_count": 145,
   "metadata": {
    "collapsed": true
   },
   "outputs": [],
   "source": [
    "import pandas as pd\n",
    "import numpy as np\n",
    "%matplotlib inline\n",
    "import matplotlib.pyplot as plt\n",
    "import seaborn as sns\n",
    "import sklearn\n",
    "import scipy\n",
    "import pylab as rcParams\n",
    "import statsmodels.api as sm\n",
    "from matplotlib.pyplot import figure\n",
    "from statsmodels.graphics.gofplots import ProbPlot\n",
    "from sklearn.linear_model import LogisticRegression\n",
    "from sklearn.linear_model import LinearRegression\n",
    "from sklearn.preprocessing import scale\n",
    "from sklearn import metrics\n",
    "from sklearn import preprocessing\n",
    "from sklearn import linear_model\n",
    "from statsmodels.formula.api import ols\n",
    "from statsmodels.tools import add_constant"
   ]
  },
  {
   "cell_type": "code",
   "execution_count": 2,
   "metadata": {
    "collapsed": true
   },
   "outputs": [],
   "source": [
    "sales = pd.read_csv(\"E:/Data Science/DataCamp/Building Response Model R/mysales.csv\",sep=\",\")"
   ]
  },
  {
   "cell_type": "code",
   "execution_count": 3,
   "metadata": {},
   "outputs": [
    {
     "data": {
      "text/html": [
       "<div>\n",
       "<style>\n",
       "    .dataframe thead tr:only-child th {\n",
       "        text-align: right;\n",
       "    }\n",
       "\n",
       "    .dataframe thead th {\n",
       "        text-align: left;\n",
       "    }\n",
       "\n",
       "    .dataframe tbody tr th {\n",
       "        vertical-align: top;\n",
       "    }\n",
       "</style>\n",
       "<table border=\"1\" class=\"dataframe\">\n",
       "  <thead>\n",
       "    <tr style=\"text-align: right;\">\n",
       "      <th></th>\n",
       "      <th>OBS</th>\n",
       "      <th>SALES</th>\n",
       "      <th>PRICE</th>\n",
       "      <th>DISPLAY</th>\n",
       "      <th>COUPON</th>\n",
       "      <th>DISPLAYCOUPON</th>\n",
       "    </tr>\n",
       "  </thead>\n",
       "  <tbody>\n",
       "    <tr>\n",
       "      <th>0</th>\n",
       "      <td>1</td>\n",
       "      <td>61.825479</td>\n",
       "      <td>1.090000</td>\n",
       "      <td>0</td>\n",
       "      <td>0</td>\n",
       "      <td>0</td>\n",
       "    </tr>\n",
       "    <tr>\n",
       "      <th>1</th>\n",
       "      <td>2</td>\n",
       "      <td>11.469201</td>\n",
       "      <td>1.271818</td>\n",
       "      <td>0</td>\n",
       "      <td>0</td>\n",
       "      <td>0</td>\n",
       "    </tr>\n",
       "    <tr>\n",
       "      <th>2</th>\n",
       "      <td>3</td>\n",
       "      <td>61.645996</td>\n",
       "      <td>1.271818</td>\n",
       "      <td>0</td>\n",
       "      <td>0</td>\n",
       "      <td>0</td>\n",
       "    </tr>\n",
       "    <tr>\n",
       "      <th>3</th>\n",
       "      <td>4</td>\n",
       "      <td>38.340422</td>\n",
       "      <td>1.271818</td>\n",
       "      <td>0</td>\n",
       "      <td>0</td>\n",
       "      <td>0</td>\n",
       "    </tr>\n",
       "    <tr>\n",
       "      <th>4</th>\n",
       "      <td>5</td>\n",
       "      <td>31.703434</td>\n",
       "      <td>1.271818</td>\n",
       "      <td>0</td>\n",
       "      <td>0</td>\n",
       "      <td>0</td>\n",
       "    </tr>\n",
       "  </tbody>\n",
       "</table>\n",
       "</div>"
      ],
      "text/plain": [
       "   OBS      SALES     PRICE  DISPLAY  COUPON  DISPLAYCOUPON\n",
       "0    1  61.825479  1.090000        0       0              0\n",
       "1    2  11.469201  1.271818        0       0              0\n",
       "2    3  61.645996  1.271818        0       0              0\n",
       "3    4  38.340422  1.271818        0       0              0\n",
       "4    5  31.703434  1.271818        0       0              0"
      ]
     },
     "execution_count": 3,
     "metadata": {},
     "output_type": "execute_result"
    }
   ],
   "source": [
    "sales.head()"
   ]
  },
  {
   "cell_type": "code",
   "execution_count": 4,
   "metadata": {},
   "outputs": [
    {
     "name": "stdout",
     "output_type": "stream",
     "text": [
      "OBS                int64\n",
      "SALES            float64\n",
      "PRICE            float64\n",
      "DISPLAY            int64\n",
      "COUPON             int64\n",
      "DISPLAYCOUPON      int64\n",
      "dtype: object\n",
      "OBS              False\n",
      "SALES            False\n",
      "PRICE            False\n",
      "DISPLAY          False\n",
      "COUPON           False\n",
      "DISPLAYCOUPON    False\n",
      "dtype: bool\n"
     ]
    }
   ],
   "source": [
    "print(sales.dtypes)\n",
    "print(sales.isnull().any())"
   ]
  },
  {
   "cell_type": "markdown",
   "metadata": {},
   "source": [
    "## Understanding sales\n",
    "\n",
    "sales.data contains information on beer volume SALES recorded over 124 WEEKS as well as past marketing activities run by the brewery such as PRICE, DISPLAY, and COUPON promotion campaigns.\n",
    "\n",
    "To get a first impression about volume SALES you calculate some simple descriptive performance indicators. You calculate the average number of SALES using the function mean() and the minimum and maximum SALES using the functions min() and max()."
   ]
  },
  {
   "cell_type": "code",
   "execution_count": 5,
   "metadata": {},
   "outputs": [
    {
     "name": "stdout",
     "output_type": "stream",
     "text": [
      "Mean: \n",
      " 118.82617921979504\n",
      "Minimum: \n",
      " 11.4692012003\n",
      "Maximum: \n",
      " 1406.69804988\n"
     ]
    }
   ],
   "source": [
    "sales_mean = np.mean(sales['SALES'])\n",
    "print('Mean: \\n', sales_mean)\n",
    "print('Minimum: \\n', np.min(sales['SALES']))\n",
    "print('Maximum: \\n', np.max(sales['SALES']))"
   ]
  },
  {
   "cell_type": "markdown",
   "metadata": {},
   "source": [
    "## Building a linear response model for sales\n",
    "\n",
    "In the past, the brewery ran several price promotion campaigns that are causing price levels to vary. Now, the marketing manager wants to know to what extent these price changes influenced sales.\n",
    "\n",
    "You start explaining the effect of changes in PRICE to changes in SALES by using the linear model function lm(). The lm() function requires the specification of the sales - price relation via the formula argument SALES ~ PRICE. The estimated coefficients for the linear sales response model can be obtained by using the function coef()."
   ]
  },
  {
   "cell_type": "code",
   "execution_count": 6,
   "metadata": {},
   "outputs": [
    {
     "data": {
      "text/html": [
       "<table class=\"simpletable\">\n",
       "<caption>OLS Regression Results</caption>\n",
       "<tr>\n",
       "  <th>Dep. Variable:</th>          <td>SALES</td>      <th>  R-squared:         </th> <td>   0.349</td>\n",
       "</tr>\n",
       "<tr>\n",
       "  <th>Model:</th>                   <td>OLS</td>       <th>  Adj. R-squared:    </th> <td>   0.344</td>\n",
       "</tr>\n",
       "<tr>\n",
       "  <th>Method:</th>             <td>Least Squares</td>  <th>  F-statistic:       </th> <td>   66.00</td>\n",
       "</tr>\n",
       "<tr>\n",
       "  <th>Date:</th>             <td>Tue, 29 Jan 2019</td> <th>  Prob (F-statistic):</th> <td>4.02e-13</td>\n",
       "</tr>\n",
       "<tr>\n",
       "  <th>Time:</th>                 <td>18:08:55</td>     <th>  Log-Likelihood:    </th> <td> -805.20</td>\n",
       "</tr>\n",
       "<tr>\n",
       "  <th>No. Observations:</th>      <td>   124</td>      <th>  AIC:               </th> <td>   1612.</td>\n",
       "</tr>\n",
       "<tr>\n",
       "  <th>Df Residuals:</th>          <td>   123</td>      <th>  BIC:               </th> <td>   1615.</td>\n",
       "</tr>\n",
       "<tr>\n",
       "  <th>Df Model:</th>              <td>     1</td>      <th>                     </th>     <td> </td>   \n",
       "</tr>\n",
       "<tr>\n",
       "  <th>Covariance Type:</th>      <td>nonrobust</td>    <th>                     </th>     <td> </td>   \n",
       "</tr>\n",
       "</table>\n",
       "<table class=\"simpletable\">\n",
       "<tr>\n",
       "    <td></td>       <th>coef</th>     <th>std err</th>      <th>t</th>      <th>P>|t|</th>  <th>[0.025</th>    <th>0.975]</th>  \n",
       "</tr>\n",
       "<tr>\n",
       "  <th>PRICE</th> <td>  100.8283</td> <td>   12.411</td> <td>    8.124</td> <td> 0.000</td> <td>   76.262</td> <td>  125.395</td>\n",
       "</tr>\n",
       "</table>\n",
       "<table class=\"simpletable\">\n",
       "<tr>\n",
       "  <th>Omnibus:</th>       <td>161.166</td> <th>  Durbin-Watson:     </th> <td>   2.055</td>\n",
       "</tr>\n",
       "<tr>\n",
       "  <th>Prob(Omnibus):</th> <td> 0.000</td>  <th>  Jarque-Bera (JB):  </th> <td>6023.086</td>\n",
       "</tr>\n",
       "<tr>\n",
       "  <th>Skew:</th>          <td> 4.774</td>  <th>  Prob(JB):          </th> <td>    0.00</td>\n",
       "</tr>\n",
       "<tr>\n",
       "  <th>Kurtosis:</th>      <td>35.781</td>  <th>  Cond. No.          </th> <td>    1.00</td>\n",
       "</tr>\n",
       "</table>"
      ],
      "text/plain": [
       "<class 'statsmodels.iolib.summary.Summary'>\n",
       "\"\"\"\n",
       "                            OLS Regression Results                            \n",
       "==============================================================================\n",
       "Dep. Variable:                  SALES   R-squared:                       0.349\n",
       "Model:                            OLS   Adj. R-squared:                  0.344\n",
       "Method:                 Least Squares   F-statistic:                     66.00\n",
       "Date:                Tue, 29 Jan 2019   Prob (F-statistic):           4.02e-13\n",
       "Time:                        18:08:55   Log-Likelihood:                -805.20\n",
       "No. Observations:                 124   AIC:                             1612.\n",
       "Df Residuals:                     123   BIC:                             1615.\n",
       "Df Model:                           1                                         \n",
       "Covariance Type:            nonrobust                                         \n",
       "==============================================================================\n",
       "                 coef    std err          t      P>|t|      [0.025      0.975]\n",
       "------------------------------------------------------------------------------\n",
       "PRICE        100.8283     12.411      8.124      0.000      76.262     125.395\n",
       "==============================================================================\n",
       "Omnibus:                      161.166   Durbin-Watson:                   2.055\n",
       "Prob(Omnibus):                  0.000   Jarque-Bera (JB):             6023.086\n",
       "Skew:                           4.774   Prob(JB):                         0.00\n",
       "Kurtosis:                      35.781   Cond. No.                         1.00\n",
       "==============================================================================\n",
       "\n",
       "Warnings:\n",
       "[1] Standard Errors assume that the covariance matrix of the errors is correctly specified.\n",
       "\"\"\""
      ]
     },
     "execution_count": 6,
     "metadata": {},
     "output_type": "execute_result"
    }
   ],
   "source": [
    "X = sales[[\"PRICE\"]]\n",
    "y = sales[[\"SALES\"]]\n",
    "\n",
    "# Fit and make the predictions by the model\n",
    "salesmodel = sm.OLS(y, X).fit()\n",
    "predictions = salesmodel.predict(X)\n",
    "\n",
    "# Print out the statistics\n",
    "salesmodel.summary()"
   ]
  },
  {
   "cell_type": "code",
   "execution_count": 7,
   "metadata": {},
   "outputs": [
    {
     "name": "stdout",
     "output_type": "stream",
     "text": [
      "Coefficients: \n",
      " [[-134.30965829]]\n",
      "Intercept: \n",
      " [ 274.24858034]\n"
     ]
    }
   ],
   "source": [
    "reg = LinearRegression()\n",
    "Smodel = reg.fit(X,y)\n",
    "print('Coefficients: \\n',Smodel.coef_) \n",
    "print( 'Intercept: \\n',Smodel.intercept_)"
   ]
  },
  {
   "cell_type": "markdown",
   "metadata": {},
   "source": [
    "## Making Predictions\n",
    "\n",
    "To improve pricing decisions, the marketing manager needs to know how many sales can be expected under alternative prices. In particular, he wants to know the expected volume sales for the unit prices of 1.05 and 0.95?\n",
    "\n",
    "You can use the coefficients of your linear.model to make these predictions. The coef() function returns a numeric coefficient vector with two elements. The first element is the sales intercept which can be accessed via [1] and the second element is the price slope which can be accessed via [2]. \n",
    "\n",
    "You obtain the expected sales by simply adding the price slope multiplied by 1.05 and 0.95 to the sales intercept."
   ]
  },
  {
   "cell_type": "code",
   "execution_count": 8,
   "metadata": {},
   "outputs": [
    {
     "name": "stdout",
     "output_type": "stream",
     "text": [
      "Prediction 1: \n",
      " [[ 146.65440496]]\n",
      "prediction 2: \n",
      " [[ 133.22343913]]\n"
     ]
    }
   ],
   "source": [
    "print('Prediction 1: \\n',(Smodel.intercept_ + (0.95 * (Smodel.coef_))))\n",
    "print('prediction 2: \\n',(Smodel.intercept_ + (1.05 * (Smodel.coef_))))"
   ]
  },
  {
   "cell_type": "markdown",
   "metadata": {},
   "source": [
    "## Predictive performance\n",
    "\n",
    "You can use your model to make predictions for any chosen price level. Obtaining reasonable predictions is dependant on the correctness of your assumption that volume sales and unit price are linearly related.\n",
    "\n",
    "You display the relation between SALES and PRICE in a simple scatterplot by using the function plot(). Likewise the lm() function, the plot() function operates on the formula argument SALES ~ PRICE. \n",
    "\n",
    "You can add the model predictions to the graph by using the function line(). The line() function adds a straight line specified in sales intercept/ price slope form when applied to the coefficient vector of the linear.model object."
   ]
  },
  {
   "cell_type": "code",
   "execution_count": 9,
   "metadata": {},
   "outputs": [
    {
     "data": {
      "image/png": "[encoded data removed]",
      "text/plain": [
       "<matplotlib.figure.Figure at 0x1d6b73b17f0>"
      ]
     },
     "metadata": {},
     "output_type": "display_data"
    }
   ],
   "source": [
    "# Plot outputs\n",
    "sns.lmplot(data=sales,\n",
    "           x='PRICE',\n",
    "           y='SALES')\n",
    "plt.show()"
   ]
  },
  {
   "cell_type": "code",
   "execution_count": 10,
   "metadata": {},
   "outputs": [
    {
     "data": {
      "text/plain": [
       "0.0075765227042884353"
      ]
     },
     "execution_count": 10,
     "metadata": {},
     "output_type": "execute_result"
    }
   ],
   "source": [
    "reg = LinearRegression().fit(sales[['PRICE']],sales.SALES)\n",
    "reg.score(sales[['PRICE']],sales.SALES)"
   ]
  },
  {
   "cell_type": "markdown",
   "metadata": {},
   "source": [
    "## Nonlinear response models"
   ]
  },
  {
   "cell_type": "markdown",
   "metadata": {},
   "source": [
    "### Linearizing nonlinear functions\n",
    "\n",
    "The microbrewery plans to expand their business and to offer Hoppiness nationwide. Therefore, pricing decisions need to be made by the manager for more than one store.\n",
    "\n",
    "Stores might differ not only in location, but also in activity and in the number of volume sales. A solution is to explain the effect of changes in PRICE relative to changes in SALES.\n",
    "\n",
    "This is achieved by taking the log() of the SALES. The corresponding log(SALES) ~ PRICE relation is again estimated by the function lm() and the estimated coefficients for the nonlinear sales response model can obtained by using the function coef()."
   ]
  },
  {
   "cell_type": "code",
   "execution_count": 11,
   "metadata": {
    "collapsed": true
   },
   "outputs": [],
   "source": [
    "LogModel = LinearRegression().fit(sales[['PRICE']],np.log(sales.SALES))"
   ]
  },
  {
   "cell_type": "code",
   "execution_count": 12,
   "metadata": {},
   "outputs": [
    {
     "name": "stdout",
     "output_type": "stream",
     "text": [
      "Coefficients: \n",
      " [-0.6622516]\n",
      "Intercept: \n",
      " 5.08439828306\n"
     ]
    }
   ],
   "source": [
    "print('Coefficients: \\n',LogModel.coef_) \n",
    "print( 'Intercept: \\n',LogModel.intercept_)"
   ]
  },
  {
   "cell_type": "code",
   "execution_count": 13,
   "metadata": {
    "collapsed": true
   },
   "outputs": [],
   "source": [
    "sales[\"logsales\"] = np.log(sales[['SALES']])"
   ]
  },
  {
   "cell_type": "markdown",
   "metadata": {},
   "source": [
    "## What is the value added ?\n",
    "\n",
    "The problem of bad model predictions is still an open issue. This time, you investigate the relation between log(SALES) and PRICE. \n",
    "\n",
    "The corresponding scatterplot is created using the formula argument log(SALES) ~ PRICE in the plot() function. Again, the model predictions obtained from the log.model are graphed using the abline() function.\n",
    "\n",
    "The line() function adds a straight line specified in log-sales intercept/ price slope form when applied to the coefficient vector obtained for the LogModel object ."
   ]
  },
  {
   "cell_type": "code",
   "execution_count": 14,
   "metadata": {},
   "outputs": [
    {
     "data": {
      "image/png": "[encoded data removed]",
      "text/plain": [
       "<matplotlib.figure.Figure at 0x1d6b77af550>"
      ]
     },
     "metadata": {},
     "output_type": "display_data"
    }
   ],
   "source": [
    "# Plot outputs\n",
    "sns.lmplot(data=sales,\n",
    "           x='PRICE',\n",
    "           y='logsales')\n",
    "plt.show()"
   ]
  },
  {
   "cell_type": "markdown",
   "metadata": {},
   "source": [
    "## Summarizing dummy variables"
   ]
  },
  {
   "cell_type": "code",
   "execution_count": 15,
   "metadata": {},
   "outputs": [
    {
     "data": {
      "text/plain": [
       "0    91\n",
       "1    33\n",
       "Name: DISPLAY, dtype: int64"
      ]
     },
     "execution_count": 15,
     "metadata": {},
     "output_type": "execute_result"
    }
   ],
   "source": [
    "sales[\"DISPLAY\"].value_counts()"
   ]
  },
  {
   "cell_type": "markdown",
   "metadata": {},
   "source": [
    "## The effect of display on sales\n",
    "\n",
    "Selling craft beer is highly competitive. Increasing in-store visibility usually generates additional sales. Therefore, the brewery makes use of point-of-sales display ads. The volume sales of Hoppiness were recorded for all weeks with and without displays.\n",
    "\n",
    "You start with calculating the number of DISPLAY activity relative to the 124 weeks. Counting can be done by using the function value_counts(). Calculating the relative occurrence is equivalent to averaging by using the function mean().\n",
    "\n",
    "To see how much of an effect the DISPLAY actions have on SALES you construct a response model for explaining log(SALES) by DISPLAY. The log(SALES) ~ DISPLAY relation is again estimated by the function lm() and the estimated coefficients are extracted by the function coef()."
   ]
  },
  {
   "cell_type": "code",
   "execution_count": 16,
   "metadata": {},
   "outputs": [
    {
     "name": "stdout",
     "output_type": "stream",
     "text": [
      "0    0.733871\n",
      "1    0.266129\n",
      "Name: DISPLAY, dtype: float64\n",
      "Display of the ads: \n",
      " 0.2661290322580645\n",
      "No Display of the ads: \n",
      " 0.7338709677419355\n"
     ]
    }
   ],
   "source": [
    "print(sales[\"DISPLAY\"].value_counts()/np.sum(sales[\"DISPLAY\"].value_counts()))\n",
    "print('Display of the ads: \\n', np.mean(sales[\"DISPLAY\"]))\n",
    "print('No Display of the ads: \\n', (1 - np.mean(sales[\"DISPLAY\"])))"
   ]
  },
  {
   "cell_type": "code",
   "execution_count": 17,
   "metadata": {},
   "outputs": [
    {
     "name": "stdout",
     "output_type": "stream",
     "text": [
      "Coefficients: \n",
      " [ 0.46252427]\n",
      "Intercept: \n",
      " 4.19495321984\n"
     ]
    }
   ],
   "source": [
    "dummy_model = LinearRegression().fit(sales[['DISPLAY']],np.log(sales.SALES))\n",
    "print('Coefficients: \\n',dummy_model.coef_)\n",
    "print('Intercept: \\n', dummy_model.intercept_)"
   ]
  },
  {
   "cell_type": "code",
   "execution_count": 18,
   "metadata": {},
   "outputs": [
    {
     "data": {
      "text/plain": [
       "66.350627611398082"
      ]
     },
     "execution_count": 18,
     "metadata": {},
     "output_type": "execute_result"
    }
   ],
   "source": [
    "# Average unit sales for no Display\n",
    "np.exp(dummy_model.intercept_)"
   ]
  },
  {
   "cell_type": "code",
   "execution_count": 19,
   "metadata": {},
   "outputs": [
    {
     "data": {
      "text/plain": [
       "array([ 0.58422113])"
      ]
     },
     "execution_count": 19,
     "metadata": {},
     "output_type": "execute_result"
    }
   ],
   "source": [
    "# Switching from no-display to display\n",
    "np.exp(dummy_model.coef_ - 1)"
   ]
  },
  {
   "cell_type": "markdown",
   "metadata": {},
   "source": [
    "## More dummies\n",
    "\n",
    "The brewery also distributed manufacturer coupons, offering price reductions for Hoppiness. A third marketing strategy was to combine display and coupon activity to increase beer volume sales.\n",
    "\n",
    "This time, you will calculate the mean of DISPLAY, COUPON and DISPLAYCOUPON by using the function mean(). You can also do a shortcut by using the function describe()."
   ]
  },
  {
   "cell_type": "code",
   "execution_count": 20,
   "metadata": {},
   "outputs": [
    {
     "data": {
      "text/html": [
       "<div>\n",
       "<style>\n",
       "    .dataframe thead tr:only-child th {\n",
       "        text-align: right;\n",
       "    }\n",
       "\n",
       "    .dataframe thead th {\n",
       "        text-align: left;\n",
       "    }\n",
       "\n",
       "    .dataframe tbody tr th {\n",
       "        vertical-align: top;\n",
       "    }\n",
       "</style>\n",
       "<table border=\"1\" class=\"dataframe\">\n",
       "  <thead>\n",
       "    <tr style=\"text-align: right;\">\n",
       "      <th></th>\n",
       "      <th>OBS</th>\n",
       "      <th>SALES</th>\n",
       "      <th>PRICE</th>\n",
       "      <th>DISPLAY</th>\n",
       "      <th>COUPON</th>\n",
       "      <th>DISPLAYCOUPON</th>\n",
       "      <th>logsales</th>\n",
       "    </tr>\n",
       "  </thead>\n",
       "  <tbody>\n",
       "    <tr>\n",
       "      <th>count</th>\n",
       "      <td>124.000000</td>\n",
       "      <td>124.000000</td>\n",
       "      <td>124.000000</td>\n",
       "      <td>124.000000</td>\n",
       "      <td>124.000000</td>\n",
       "      <td>124.000000</td>\n",
       "      <td>124.000000</td>\n",
       "    </tr>\n",
       "    <tr>\n",
       "      <th>mean</th>\n",
       "      <td>62.500000</td>\n",
       "      <td>118.826179</td>\n",
       "      <td>1.157195</td>\n",
       "      <td>0.266129</td>\n",
       "      <td>0.096774</td>\n",
       "      <td>0.056452</td>\n",
       "      <td>4.318044</td>\n",
       "    </tr>\n",
       "    <tr>\n",
       "      <th>std</th>\n",
       "      <td>35.939764</td>\n",
       "      <td>159.299970</td>\n",
       "      <td>0.103239</td>\n",
       "      <td>0.443725</td>\n",
       "      <td>0.296849</td>\n",
       "      <td>0.231728</td>\n",
       "      <td>0.899595</td>\n",
       "    </tr>\n",
       "    <tr>\n",
       "      <th>min</th>\n",
       "      <td>1.000000</td>\n",
       "      <td>11.469201</td>\n",
       "      <td>0.910833</td>\n",
       "      <td>0.000000</td>\n",
       "      <td>0.000000</td>\n",
       "      <td>0.000000</td>\n",
       "      <td>2.439665</td>\n",
       "    </tr>\n",
       "    <tr>\n",
       "      <th>25%</th>\n",
       "      <td>31.750000</td>\n",
       "      <td>40.717909</td>\n",
       "      <td>1.101909</td>\n",
       "      <td>0.000000</td>\n",
       "      <td>0.000000</td>\n",
       "      <td>0.000000</td>\n",
       "      <td>3.706666</td>\n",
       "    </tr>\n",
       "    <tr>\n",
       "      <th>50%</th>\n",
       "      <td>62.500000</td>\n",
       "      <td>62.024212</td>\n",
       "      <td>1.157692</td>\n",
       "      <td>0.000000</td>\n",
       "      <td>0.000000</td>\n",
       "      <td>0.000000</td>\n",
       "      <td>4.127520</td>\n",
       "    </tr>\n",
       "    <tr>\n",
       "      <th>75%</th>\n",
       "      <td>93.250000</td>\n",
       "      <td>126.716999</td>\n",
       "      <td>1.257115</td>\n",
       "      <td>1.000000</td>\n",
       "      <td>0.000000</td>\n",
       "      <td>0.000000</td>\n",
       "      <td>4.841841</td>\n",
       "    </tr>\n",
       "    <tr>\n",
       "      <th>max</th>\n",
       "      <td>124.000000</td>\n",
       "      <td>1406.698050</td>\n",
       "      <td>1.280769</td>\n",
       "      <td>1.000000</td>\n",
       "      <td>1.000000</td>\n",
       "      <td>1.000000</td>\n",
       "      <td>7.249000</td>\n",
       "    </tr>\n",
       "  </tbody>\n",
       "</table>\n",
       "</div>"
      ],
      "text/plain": [
       "              OBS        SALES       PRICE     DISPLAY      COUPON  \\\n",
       "count  124.000000   124.000000  124.000000  124.000000  124.000000   \n",
       "mean    62.500000   118.826179    1.157195    0.266129    0.096774   \n",
       "std     35.939764   159.299970    0.103239    0.443725    0.296849   \n",
       "min      1.000000    11.469201    0.910833    0.000000    0.000000   \n",
       "25%     31.750000    40.717909    1.101909    0.000000    0.000000   \n",
       "50%     62.500000    62.024212    1.157692    0.000000    0.000000   \n",
       "75%     93.250000   126.716999    1.257115    1.000000    0.000000   \n",
       "max    124.000000  1406.698050    1.280769    1.000000    1.000000   \n",
       "\n",
       "       DISPLAYCOUPON    logsales  \n",
       "count     124.000000  124.000000  \n",
       "mean        0.056452    4.318044  \n",
       "std         0.231728    0.899595  \n",
       "min         0.000000    2.439665  \n",
       "25%         0.000000    3.706666  \n",
       "50%         0.000000    4.127520  \n",
       "75%         0.000000    4.841841  \n",
       "max         1.000000    7.249000  "
      ]
     },
     "execution_count": 20,
     "metadata": {},
     "output_type": "execute_result"
    }
   ],
   "source": [
    "sales.describe()"
   ]
  },
  {
   "cell_type": "markdown",
   "metadata": {},
   "source": [
    "### The effect of multiple dummies on sales\n",
    "\n",
    "To describe the effects of coupon and display activity on volume sales you have to take the DISPLAY, COUPON, and DISPLAYCOUPON predictors simultaneously into account. You can do this by successively adding the predictors to the response function.\n",
    "\n",
    "The relation is again estimated by the function lm() and the corresponding coefficients can as usually be obtained by using the coef() function."
   ]
  },
  {
   "cell_type": "code",
   "execution_count": 21,
   "metadata": {
    "collapsed": true
   },
   "outputs": [],
   "source": [
    "X_sales = sales[[\"DISPLAY\",\"COUPON\",\"DISPLAYCOUPON\",\"PRICE\"]]\n",
    "y_sales = sales[\"logsales\"]"
   ]
  },
  {
   "cell_type": "code",
   "execution_count": 40,
   "metadata": {},
   "outputs": [
    {
     "name": "stdout",
     "output_type": "stream",
     "text": [
      "Coefficients: \n",
      " [ 0.87468186  1.76456566  2.16297894  0.31234118]\n",
      "Intercept: \n",
      " 3.43095854915\n"
     ]
    }
   ],
   "source": [
    "NewModel = LinearRegression().fit(X_sales,y_sales)\n",
    "print('Coefficients: \\n',NewModel.coef_)\n",
    "print('Intercept: \\n', NewModel.intercept_)"
   ]
  },
  {
   "cell_type": "markdown",
   "metadata": {},
   "source": [
    "## How to Lag?\n",
    "\n",
    "Possibly, customers do not immediately react to price reductions of Hoppiness. Therefore, it is important to check if the effect of price promotion might extend to the next week. You can do this by adding lags into your model.\n",
    "\n",
    "Lagging a variable means shifting the time base back by a given number of observations. This can be done by using the function lag(). The lag() function takes only one argument; n = 1, by default for defining the number of periods to be shifted.\n",
    "\n",
    "You apply lag() on PRICE and compare the result to the original PRICE by using the function cbind(). To display only the first six elements of the data columns, you can use the function head()."
   ]
  },
  {
   "cell_type": "code",
   "execution_count": 63,
   "metadata": {
    "collapsed": true
   },
   "outputs": [],
   "source": [
    "Pricelag = sales['PRICE'].shift(1)"
   ]
  },
  {
   "cell_type": "code",
   "execution_count": 64,
   "metadata": {
    "collapsed": true
   },
   "outputs": [],
   "source": [
    "Pricelag = Pricelag.fillna(0)"
   ]
  },
  {
   "cell_type": "code",
   "execution_count": 65,
   "metadata": {},
   "outputs": [
    {
     "data": {
      "text/plain": [
       "dtype('float64')"
      ]
     },
     "execution_count": 65,
     "metadata": {},
     "output_type": "execute_result"
    }
   ],
   "source": [
    "Pricelag.dtype"
   ]
  },
  {
   "cell_type": "code",
   "execution_count": 66,
   "metadata": {},
   "outputs": [
    {
     "data": {
      "text/plain": [
       "(array([], dtype=int64),)"
      ]
     },
     "execution_count": 66,
     "metadata": {},
     "output_type": "execute_result"
    }
   ],
   "source": [
    "np.where(Pricelag.values >= np.finfo(np.float64).max)"
   ]
  },
  {
   "cell_type": "code",
   "execution_count": 67,
   "metadata": {},
   "outputs": [
    {
     "data": {
      "text/plain": [
       "False"
      ]
     },
     "execution_count": 67,
     "metadata": {},
     "output_type": "execute_result"
    }
   ],
   "source": [
    "np.isnan(Pricelag.values.any())"
   ]
  },
  {
   "cell_type": "code",
   "execution_count": 68,
   "metadata": {
    "collapsed": true
   },
   "outputs": [],
   "source": [
    "sales[\"Pricelag\"] = Pricelag"
   ]
  },
  {
   "cell_type": "code",
   "execution_count": 69,
   "metadata": {
    "collapsed": true
   },
   "outputs": [],
   "source": [
    "X_new = sales[[\"PRICE\", \"Pricelag\"]]"
   ]
  },
  {
   "cell_type": "code",
   "execution_count": 70,
   "metadata": {},
   "outputs": [
    {
     "data": {
      "text/html": [
       "<div>\n",
       "<style>\n",
       "    .dataframe thead tr:only-child th {\n",
       "        text-align: right;\n",
       "    }\n",
       "\n",
       "    .dataframe thead th {\n",
       "        text-align: left;\n",
       "    }\n",
       "\n",
       "    .dataframe tbody tr th {\n",
       "        vertical-align: top;\n",
       "    }\n",
       "</style>\n",
       "<table border=\"1\" class=\"dataframe\">\n",
       "  <thead>\n",
       "    <tr style=\"text-align: right;\">\n",
       "      <th></th>\n",
       "      <th>PRICE</th>\n",
       "      <th>Pricelag</th>\n",
       "    </tr>\n",
       "  </thead>\n",
       "  <tbody>\n",
       "    <tr>\n",
       "      <th>0</th>\n",
       "      <td>1.090000</td>\n",
       "      <td>0.000000</td>\n",
       "    </tr>\n",
       "    <tr>\n",
       "      <th>1</th>\n",
       "      <td>1.271818</td>\n",
       "      <td>1.090000</td>\n",
       "    </tr>\n",
       "    <tr>\n",
       "      <th>2</th>\n",
       "      <td>1.271818</td>\n",
       "      <td>1.271818</td>\n",
       "    </tr>\n",
       "    <tr>\n",
       "      <th>3</th>\n",
       "      <td>1.271818</td>\n",
       "      <td>1.271818</td>\n",
       "    </tr>\n",
       "    <tr>\n",
       "      <th>4</th>\n",
       "      <td>1.271818</td>\n",
       "      <td>1.271818</td>\n",
       "    </tr>\n",
       "  </tbody>\n",
       "</table>\n",
       "</div>"
      ],
      "text/plain": [
       "      PRICE  Pricelag\n",
       "0  1.090000  0.000000\n",
       "1  1.271818  1.090000\n",
       "2  1.271818  1.271818\n",
       "3  1.271818  1.271818\n",
       "4  1.271818  1.271818"
      ]
     },
     "execution_count": 70,
     "metadata": {},
     "output_type": "execute_result"
    }
   ],
   "source": [
    "X_new.head()"
   ]
  },
  {
   "cell_type": "markdown",
   "metadata": {},
   "source": [
    "### Adding Lagged price effects\n",
    "\n",
    "Next, you will check if the effects of temporary price changes on sales extend into the next period.\n",
    "\n",
    "Like before, you shift the PRICE predictor back by using the function lag(). The result is assigned to a new variable Price.lag. The Price.lag variable is added to the log(SALES) ~ PRICE relationship. This simple lag-model can also be estimated by using the function lm() and the estimated coefficients are obtained by using the function coef()"
   ]
  },
  {
   "cell_type": "code",
   "execution_count": 71,
   "metadata": {},
   "outputs": [
    {
     "name": "stdout",
     "output_type": "stream",
     "text": [
      "Coefficients: \n",
      " [-1.98857004  1.56446049]\n",
      "Intercept: \n",
      " 4.82206905843\n"
     ]
    }
   ],
   "source": [
    "LagModel = LinearRegression().fit(X_new,y_sales)\n",
    "print('Coefficients: \\n',LagModel.coef_)\n",
    "print('Intercept: \\n', LagModel.intercept_)"
   ]
  },
  {
   "cell_type": "markdown",
   "metadata": {},
   "source": [
    "## More Lags\n",
    "\n",
    "It might be interesting to learn if coupon actions only cause an immediate effect on sales or if the effect continues into the next period.\n",
    "\n",
    "Again, you shift the COUPON predictor back by using the function lag(). The result is assigned to a new variable Coupon.lag. Both, the original COUPON and the Coupon.lag variables, are added to the log(SALES) ~ PRICE + Price.lag relationship by using the function."
   ]
  },
  {
   "cell_type": "code",
   "execution_count": 72,
   "metadata": {},
   "outputs": [
    {
     "data": {
      "text/plain": [
       "dtype('float64')"
      ]
     },
     "execution_count": 72,
     "metadata": {},
     "output_type": "execute_result"
    }
   ],
   "source": [
    "Couponlag = sales['COUPON'].shift(1)\n",
    "Couponlag = Couponlag.fillna(0)\n",
    "Couponlag.dtype"
   ]
  },
  {
   "cell_type": "code",
   "execution_count": 74,
   "metadata": {},
   "outputs": [
    {
     "data": {
      "text/plain": [
       "False"
      ]
     },
     "execution_count": 74,
     "metadata": {},
     "output_type": "execute_result"
    }
   ],
   "source": [
    "np.where(Couponlag.values >= np.finfo(np.float64).max)\n",
    "np.isnan(Couponlag.values.any())"
   ]
  },
  {
   "cell_type": "code",
   "execution_count": 79,
   "metadata": {
    "collapsed": true
   },
   "outputs": [],
   "source": [
    "sales[\"Couponlag\"] = Couponlag\n",
    "X_C = sales[[\"PRICE\", \"Pricelag\",\"COUPON\",\"Couponlag\"]]"
   ]
  },
  {
   "cell_type": "code",
   "execution_count": 80,
   "metadata": {},
   "outputs": [
    {
     "name": "stdout",
     "output_type": "stream",
     "text": [
      "Coefficients: \n",
      " [-1.91888089  1.47820806  1.34872223 -0.40314528]\n",
      "Intercept: \n",
      " 4.74899817568\n"
     ]
    }
   ],
   "source": [
    "CouponlagModel = LinearRegression().fit(X_C,y_sales)\n",
    "print('Coefficients: \\n',CouponlagModel.coef_)\n",
    "print('Intercept: \\n', CouponlagModel.intercept_)"
   ]
  },
  {
   "cell_type": "code",
   "execution_count": 82,
   "metadata": {
    "collapsed": true
   },
   "outputs": [],
   "source": [
    "Displaylag = sales['DISPLAY'].shift(1)\n",
    "Displaylag = Displaylag.fillna(0)\n",
    "np.where(Displaylag.values >= np.finfo(np.float64).max)\n",
    "np.isnan(Displaylag.values.any())\n",
    "sales[\"Displaylag\"] = Displaylag"
   ]
  },
  {
   "cell_type": "code",
   "execution_count": 83,
   "metadata": {
    "collapsed": true
   },
   "outputs": [],
   "source": [
    "DisplayCPlag = sales['DISPLAYCOUPON'].shift(1)\n",
    "DisplayCPlag = DisplayCPlag.fillna(0)\n",
    "np.where(DisplayCPlag.values >= np.finfo(np.float64).max)\n",
    "np.isnan(DisplayCPlag.values.any())\n",
    "sales[\"DisplayCPlag\"] = DisplayCPlag"
   ]
  },
  {
   "cell_type": "code",
   "execution_count": 84,
   "metadata": {},
   "outputs": [
    {
     "data": {
      "text/html": [
       "<div>\n",
       "<style>\n",
       "    .dataframe thead tr:only-child th {\n",
       "        text-align: right;\n",
       "    }\n",
       "\n",
       "    .dataframe thead th {\n",
       "        text-align: left;\n",
       "    }\n",
       "\n",
       "    .dataframe tbody tr th {\n",
       "        vertical-align: top;\n",
       "    }\n",
       "</style>\n",
       "<table border=\"1\" class=\"dataframe\">\n",
       "  <thead>\n",
       "    <tr style=\"text-align: right;\">\n",
       "      <th></th>\n",
       "      <th>OBS</th>\n",
       "      <th>SALES</th>\n",
       "      <th>PRICE</th>\n",
       "      <th>DISPLAY</th>\n",
       "      <th>COUPON</th>\n",
       "      <th>DISPLAYCOUPON</th>\n",
       "      <th>logsales</th>\n",
       "      <th>Pricelag</th>\n",
       "      <th>Couponlag</th>\n",
       "      <th>Displaylag</th>\n",
       "      <th>DisplayCPlag</th>\n",
       "    </tr>\n",
       "  </thead>\n",
       "  <tbody>\n",
       "    <tr>\n",
       "      <th>0</th>\n",
       "      <td>1</td>\n",
       "      <td>61.825479</td>\n",
       "      <td>1.090000</td>\n",
       "      <td>0</td>\n",
       "      <td>0</td>\n",
       "      <td>0</td>\n",
       "      <td>4.124316</td>\n",
       "      <td>0.000000</td>\n",
       "      <td>0.0</td>\n",
       "      <td>0.0</td>\n",
       "      <td>0.0</td>\n",
       "    </tr>\n",
       "    <tr>\n",
       "      <th>1</th>\n",
       "      <td>2</td>\n",
       "      <td>11.469201</td>\n",
       "      <td>1.271818</td>\n",
       "      <td>0</td>\n",
       "      <td>0</td>\n",
       "      <td>0</td>\n",
       "      <td>2.439665</td>\n",
       "      <td>1.090000</td>\n",
       "      <td>0.0</td>\n",
       "      <td>0.0</td>\n",
       "      <td>0.0</td>\n",
       "    </tr>\n",
       "    <tr>\n",
       "      <th>2</th>\n",
       "      <td>3</td>\n",
       "      <td>61.645996</td>\n",
       "      <td>1.271818</td>\n",
       "      <td>0</td>\n",
       "      <td>0</td>\n",
       "      <td>0</td>\n",
       "      <td>4.121408</td>\n",
       "      <td>1.271818</td>\n",
       "      <td>0.0</td>\n",
       "      <td>0.0</td>\n",
       "      <td>0.0</td>\n",
       "    </tr>\n",
       "    <tr>\n",
       "      <th>3</th>\n",
       "      <td>4</td>\n",
       "      <td>38.340422</td>\n",
       "      <td>1.271818</td>\n",
       "      <td>0</td>\n",
       "      <td>0</td>\n",
       "      <td>0</td>\n",
       "      <td>3.646505</td>\n",
       "      <td>1.271818</td>\n",
       "      <td>0.0</td>\n",
       "      <td>0.0</td>\n",
       "      <td>0.0</td>\n",
       "    </tr>\n",
       "    <tr>\n",
       "      <th>4</th>\n",
       "      <td>5</td>\n",
       "      <td>31.703434</td>\n",
       "      <td>1.271818</td>\n",
       "      <td>0</td>\n",
       "      <td>0</td>\n",
       "      <td>0</td>\n",
       "      <td>3.456425</td>\n",
       "      <td>1.271818</td>\n",
       "      <td>0.0</td>\n",
       "      <td>0.0</td>\n",
       "      <td>0.0</td>\n",
       "    </tr>\n",
       "  </tbody>\n",
       "</table>\n",
       "</div>"
      ],
      "text/plain": [
       "   OBS      SALES     PRICE  DISPLAY  COUPON  DISPLAYCOUPON  logsales  \\\n",
       "0    1  61.825479  1.090000        0       0              0  4.124316   \n",
       "1    2  11.469201  1.271818        0       0              0  2.439665   \n",
       "2    3  61.645996  1.271818        0       0              0  4.121408   \n",
       "3    4  38.340422  1.271818        0       0              0  3.646505   \n",
       "4    5  31.703434  1.271818        0       0              0  3.456425   \n",
       "\n",
       "   Pricelag  Couponlag  Displaylag  DisplayCPlag  \n",
       "0  0.000000        0.0         0.0           0.0  \n",
       "1  1.090000        0.0         0.0           0.0  \n",
       "2  1.271818        0.0         0.0           0.0  \n",
       "3  1.271818        0.0         0.0           0.0  \n",
       "4  1.271818        0.0         0.0           0.0  "
      ]
     },
     "execution_count": 84,
     "metadata": {},
     "output_type": "execute_result"
    }
   ],
   "source": [
    "sales.head()"
   ]
  },
  {
   "cell_type": "markdown",
   "metadata": {},
   "source": [
    "## What's the value added ?\n",
    "\n",
    "You still remember the bad performance of your first simple response model. Now, you are getting curious about the value added by taking lags. You combine all the marketing tools and their lagged-effects in one model named extended.model.\n",
    "\n",
    "You start with displaying the relation between log(SALES) and the running index by using the plot() function. This time, you obtain the model predictions by using the function fitted() on the extended.model object. \n",
    "\n",
    "To account for the loss of the first observation due to the lag operation you append NA to the vector of predicted values. You add the model predictions to the graph by using the function lines(). The lines() function joins the predicted data points using line segments."
   ]
  },
  {
   "cell_type": "code",
   "execution_count": 127,
   "metadata": {
    "collapsed": true
   },
   "outputs": [],
   "source": [
    "X_Extended = sales[[\"Pricelag\",\"Couponlag\",\"Displaylag\",\"DisplayCPlag\",\"PRICE\",\"DISPLAY\",\"COUPON\",\"DISPLAYCOUPON\"]]"
   ]
  },
  {
   "cell_type": "code",
   "execution_count": 146,
   "metadata": {
    "collapsed": true
   },
   "outputs": [],
   "source": [
    "model = sm.OLS(y_sales,X_Extended)\n",
    "model_fit = model.fit()"
   ]
  },
  {
   "cell_type": "markdown",
   "metadata": {},
   "source": [
    "## Summarizing the  Model\n",
    "\n",
    "Awesome, your last model did a really good job in predicting the sales of Hoppiness. When reporting to the company, you need to quantify this achievement and give some conclusions about the importance of the marketing activities for explaining the sales of Hoppiness.\n",
    "\n",
    "You can get what you need in a single step by simply applying the function summary() to the extended.model object. The summary() function also summarizes information on your model regarding model fit (R-squared and Adjusted R-squared) and the importance of the effects (P-values)."
   ]
  },
  {
   "cell_type": "code",
   "execution_count": 147,
   "metadata": {},
   "outputs": [
    {
     "data": {
      "text/html": [
       "<table class=\"simpletable\">\n",
       "<caption>OLS Regression Results</caption>\n",
       "<tr>\n",
       "  <th>Dep. Variable:</th>        <td>logsales</td>     <th>  R-squared:         </th> <td>   0.983</td>\n",
       "</tr>\n",
       "<tr>\n",
       "  <th>Model:</th>                   <td>OLS</td>       <th>  Adj. R-squared:    </th> <td>   0.981</td>\n",
       "</tr>\n",
       "<tr>\n",
       "  <th>Method:</th>             <td>Least Squares</td>  <th>  F-statistic:       </th> <td>   814.6</td>\n",
       "</tr>\n",
       "<tr>\n",
       "  <th>Date:</th>             <td>Tue, 29 Jan 2019</td> <th>  Prob (F-statistic):</th> <td>4.12e-98</td>\n",
       "</tr>\n",
       "<tr>\n",
       "  <th>Time:</th>                 <td>18:19:51</td>     <th>  Log-Likelihood:    </th> <td> -109.09</td>\n",
       "</tr>\n",
       "<tr>\n",
       "  <th>No. Observations:</th>      <td>   124</td>      <th>  AIC:               </th> <td>   234.2</td>\n",
       "</tr>\n",
       "<tr>\n",
       "  <th>Df Residuals:</th>          <td>   116</td>      <th>  BIC:               </th> <td>   256.7</td>\n",
       "</tr>\n",
       "<tr>\n",
       "  <th>Df Model:</th>              <td>     8</td>      <th>                     </th>     <td> </td>   \n",
       "</tr>\n",
       "<tr>\n",
       "  <th>Covariance Type:</th>      <td>nonrobust</td>    <th>                     </th>     <td> </td>   \n",
       "</tr>\n",
       "</table>\n",
       "<table class=\"simpletable\">\n",
       "<tr>\n",
       "        <td></td>           <th>coef</th>     <th>std err</th>      <th>t</th>      <th>P>|t|</th>  <th>[0.025</th>    <th>0.975]</th>  \n",
       "</tr>\n",
       "<tr>\n",
       "  <th>Pricelag</th>      <td>    0.8592</td> <td>    0.482</td> <td>    1.783</td> <td> 0.077</td> <td>   -0.095</td> <td>    1.814</td>\n",
       "</tr>\n",
       "<tr>\n",
       "  <th>Couponlag</th>     <td>   -0.1808</td> <td>    0.188</td> <td>   -0.961</td> <td> 0.339</td> <td>   -0.554</td> <td>    0.192</td>\n",
       "</tr>\n",
       "<tr>\n",
       "  <th>Displaylag</th>    <td>    0.5099</td> <td>    0.136</td> <td>    3.744</td> <td> 0.000</td> <td>    0.240</td> <td>    0.780</td>\n",
       "</tr>\n",
       "<tr>\n",
       "  <th>DisplayCPlag</th>  <td>    0.4798</td> <td>    0.251</td> <td>    1.912</td> <td> 0.058</td> <td>   -0.017</td> <td>    0.977</td>\n",
       "</tr>\n",
       "<tr>\n",
       "  <th>PRICE</th>         <td>    2.2981</td> <td>    0.472</td> <td>    4.864</td> <td> 0.000</td> <td>    1.362</td> <td>    3.234</td>\n",
       "</tr>\n",
       "<tr>\n",
       "  <th>DISPLAY</th>       <td>    0.7552</td> <td>    0.144</td> <td>    5.248</td> <td> 0.000</td> <td>    0.470</td> <td>    1.040</td>\n",
       "</tr>\n",
       "<tr>\n",
       "  <th>COUPON</th>        <td>    1.8704</td> <td>    0.189</td> <td>    9.895</td> <td> 0.000</td> <td>    1.496</td> <td>    2.245</td>\n",
       "</tr>\n",
       "<tr>\n",
       "  <th>DISPLAYCOUPON</th> <td>    2.1832</td> <td>    0.242</td> <td>    9.040</td> <td> 0.000</td> <td>    1.705</td> <td>    2.662</td>\n",
       "</tr>\n",
       "</table>\n",
       "<table class=\"simpletable\">\n",
       "<tr>\n",
       "  <th>Omnibus:</th>       <td> 0.790</td> <th>  Durbin-Watson:     </th> <td>   1.923</td>\n",
       "</tr>\n",
       "<tr>\n",
       "  <th>Prob(Omnibus):</th> <td> 0.674</td> <th>  Jarque-Bera (JB):  </th> <td>   0.443</td>\n",
       "</tr>\n",
       "<tr>\n",
       "  <th>Skew:</th>          <td>-0.118</td> <th>  Prob(JB):          </th> <td>   0.801</td>\n",
       "</tr>\n",
       "<tr>\n",
       "  <th>Kurtosis:</th>      <td> 3.175</td> <th>  Cond. No.          </th> <td>    21.1</td>\n",
       "</tr>\n",
       "</table>"
      ],
      "text/plain": [
       "<class 'statsmodels.iolib.summary.Summary'>\n",
       "\"\"\"\n",
       "                            OLS Regression Results                            \n",
       "==============================================================================\n",
       "Dep. Variable:               logsales   R-squared:                       0.983\n",
       "Model:                            OLS   Adj. R-squared:                  0.981\n",
       "Method:                 Least Squares   F-statistic:                     814.6\n",
       "Date:                Tue, 29 Jan 2019   Prob (F-statistic):           4.12e-98\n",
       "Time:                        18:19:51   Log-Likelihood:                -109.09\n",
       "No. Observations:                 124   AIC:                             234.2\n",
       "Df Residuals:                     116   BIC:                             256.7\n",
       "Df Model:                           8                                         \n",
       "Covariance Type:            nonrobust                                         \n",
       "=================================================================================\n",
       "                    coef    std err          t      P>|t|      [0.025      0.975]\n",
       "---------------------------------------------------------------------------------\n",
       "Pricelag          0.8592      0.482      1.783      0.077      -0.095       1.814\n",
       "Couponlag        -0.1808      0.188     -0.961      0.339      -0.554       0.192\n",
       "Displaylag        0.5099      0.136      3.744      0.000       0.240       0.780\n",
       "DisplayCPlag      0.4798      0.251      1.912      0.058      -0.017       0.977\n",
       "PRICE             2.2981      0.472      4.864      0.000       1.362       3.234\n",
       "DISPLAY           0.7552      0.144      5.248      0.000       0.470       1.040\n",
       "COUPON            1.8704      0.189      9.895      0.000       1.496       2.245\n",
       "DISPLAYCOUPON     2.1832      0.242      9.040      0.000       1.705       2.662\n",
       "==============================================================================\n",
       "Omnibus:                        0.790   Durbin-Watson:                   1.923\n",
       "Prob(Omnibus):                  0.674   Jarque-Bera (JB):                0.443\n",
       "Skew:                          -0.118   Prob(JB):                        0.801\n",
       "Kurtosis:                       3.175   Cond. No.                         21.1\n",
       "==============================================================================\n",
       "\n",
       "Warnings:\n",
       "[1] Standard Errors assume that the covariance matrix of the errors is correctly specified.\n",
       "\"\"\""
      ]
     },
     "execution_count": 147,
     "metadata": {},
     "output_type": "execute_result"
    }
   ],
   "source": [
    "model_fitted_y = model_fit.fittedvalues\n",
    "model_fit.summary()"
   ]
  },
  {
   "cell_type": "code",
   "execution_count": 130,
   "metadata": {},
   "outputs": [
    {
     "data": {
      "image/png": "[encoded data removed]",
      "text/plain": [
       "<matplotlib.figure.Figure at 0x1d6b922f320>"
      ]
     },
     "metadata": {},
     "output_type": "display_data"
    }
   ],
   "source": [
    "plt.figure(figsize=(12,7))\n",
    "plt.scatter(sales[\"OBS\"],y_sales)\n",
    "plt.plot(sales[\"OBS\"],model_fitted_y,color='blue', linewidth=3)\n",
    "plt.xlabel(\"OBS\")\n",
    "plt.ylabel(\"log(sales)\")\n",
    "plt.show()"
   ]
  },
  {
   "cell_type": "markdown",
   "metadata": {},
   "source": [
    "## Dropping predictors\n",
    "\n",
    "To obtain support for your decision, you compare the model fit of the full model to the model excluding the lagged coupon effect by its AIC.\n",
    "\n",
    "Likewise, updating a model for the inclusion of an additional predictor, you can also drop a predictor by using the function update(). You just need to put a minus sign in front of the Coupon.lag predictor when updating the extended.model object. Then, the AIC value is obtained by using the function AIC()."
   ]
  },
  {
   "cell_type": "code",
   "execution_count": 137,
   "metadata": {},
   "outputs": [
    {
     "name": "stdout",
     "output_type": "stream",
     "text": [
      "234.177489824\n"
     ]
    }
   ],
   "source": [
    "print(model_fit.aic)"
   ]
  },
  {
   "cell_type": "code",
   "execution_count": 138,
   "metadata": {
    "collapsed": true
   },
   "outputs": [],
   "source": [
    "X_Ext = sales[[\"Pricelag\",\"Displaylag\",\"DisplayCPlag\",\"PRICE\",\"DISPLAY\",\"COUPON\",\"DISPLAYCOUPON\"]]"
   ]
  },
  {
   "cell_type": "code",
   "execution_count": 148,
   "metadata": {
    "collapsed": true
   },
   "outputs": [],
   "source": [
    "model1 = sm.OLS(y_sales,X_Ext)\n",
    "model1_fit = model1.fit()"
   ]
  },
  {
   "cell_type": "code",
   "execution_count": 149,
   "metadata": {},
   "outputs": [
    {
     "name": "stdout",
     "output_type": "stream",
     "text": [
      "233.160370208\n"
     ]
    }
   ],
   "source": [
    "print(model1_fit.aic)"
   ]
  },
  {
   "cell_type": "markdown",
   "metadata": {},
   "source": [
    "## Eliminating Predictors\n",
    "\n",
    "You do not want to exclude the lagged coupon effect yet. The company needs a really sound model to improve it's future marketing decisions and to effectively run their campaign. To be 100% sure, you perform backward elimination of variables on the extended.model object by using the function stepAIC(). The function is loaded from the add-on package MASS.\n",
    "\n",
    "The argument direction = \"backward\" starts the selection process with the extended.model. The argument trace = TRUE suppresses information to be printed during the running of the selection process. The final model, resulting in the minimum AIC value, is summarized by the function summary()."
   ]
  },
  {
   "cell_type": "code",
   "execution_count": 150,
   "metadata": {},
   "outputs": [
    {
     "name": "stdout",
     "output_type": "stream",
     "text": [
      "Add  COUPON                         with p-value 1.29466e-07\n",
      "Add  DISPLAYCOUPON                  with p-value 1.03795e-10\n",
      "Add  DISPLAY                        with p-value 7.23904e-11\n",
      "Add  Displaylag                     with p-value 0.00417925\n",
      "resulting features:\n",
      "['COUPON', 'DISPLAYCOUPON', 'DISPLAY', 'Displaylag']\n"
     ]
    }
   ],
   "source": [
    "import pandas as pd\n",
    "import numpy as np\n",
    "import statsmodels.api as sm\n",
    "\n",
    "X = X_Ext\n",
    "y = y_sales\n",
    "\n",
    "\n",
    "def stepwise_selection(X, y, \n",
    "                       initial_list=[], \n",
    "                       threshold_in=0.01, \n",
    "                       threshold_out = 0.05, \n",
    "                       verbose=True):\n",
    "    \"\"\" Perform a forward-backward feature selection \n",
    "    based on p-value from statsmodels.api.OLS\n",
    "    Arguments:\n",
    "        X - pandas.DataFrame with candidate features\n",
    "        y - list-like with the target\n",
    "        initial_list - list of features to start with (column names of X)\n",
    "        threshold_in - include a feature if its p-value < threshold_in\n",
    "        threshold_out - exclude a feature if its p-value > threshold_out\n",
    "        verbose - whether to print the sequence of inclusions and exclusions\n",
    "    Returns: list of selected features \n",
    "    Always set threshold_in < threshold_out to avoid infinite looping.\n",
    "    See https://en.wikipedia.org/wiki/Stepwise_regression for the details\n",
    "    \"\"\"\n",
    "    included = list(initial_list)\n",
    "    while True:\n",
    "        changed=False\n",
    "        # forward step\n",
    "        excluded = list(set(X.columns)-set(included))\n",
    "        new_pval = pd.Series(index=excluded)\n",
    "        for new_column in excluded:\n",
    "            model = sm.OLS(y, sm.add_constant(pd.DataFrame(X[included+[new_column]]))).fit()\n",
    "            new_pval[new_column] = model.pvalues[new_column]\n",
    "        best_pval = new_pval.min()\n",
    "        if best_pval < threshold_in:\n",
    "            best_feature = new_pval.argmin()\n",
    "            included.append(best_feature)\n",
    "            changed=True\n",
    "            if verbose:\n",
    "                print('Add  {:30} with p-value {:.6}'.format(best_feature, best_pval))\n",
    "\n",
    "        # backward step\n",
    "        model = sm.OLS(y, sm.add_constant(pd.DataFrame(X[included]))).fit()\n",
    "        # use all coefs except intercept\n",
    "        pvalues = model.pvalues.iloc[1:]\n",
    "        worst_pval = pvalues.max() # null if pvalues is empty\n",
    "        if worst_pval > threshold_out:\n",
    "            changed=True\n",
    "            worst_feature = pvalues.argmax()\n",
    "            included.remove(worst_feature)\n",
    "            if verbose:\n",
    "                print('Drop {:30} with p-value {:.6}'.format(worst_feature, worst_pval))\n",
    "        if not changed:\n",
    "            break\n",
    "    return included\n",
    "\n",
    "result = stepwise_selection(X, y)\n",
    "\n",
    "print('resulting features:')\n",
    "print(result)"
   ]
  },
  {
   "cell_type": "code",
   "execution_count": null,
   "metadata": {
    "collapsed": true
   },
   "outputs": [],
   "source": []
  }
 ],
 "metadata": {
  "kernelspec": {
   "display_name": "Python 3",
   "language": "python",
   "name": "python3"
  },
  "language_info": {
   "codemirror_mode": {
    "name": "ipython",
    "version": 3
   },
   "file_extension": ".py",
   "mimetype": "text/x-python",
   "name": "python",
   "nbconvert_exporter": "python",
   "pygments_lexer": "ipython3",
   "version": "3.6.1"
  }
 },
 "nbformat": 4,
 "nbformat_minor": 2
}
