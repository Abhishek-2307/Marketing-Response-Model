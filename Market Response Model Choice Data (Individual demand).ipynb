{
 "cells": [
  {
   "cell_type": "markdown",
   "metadata": {},
   "source": [
    "## Importing Modules"
   ]
  },
  {
   "cell_type": "code",
   "execution_count": 1,
   "metadata": {},
   "outputs": [
    {
     "name": "stderr",
     "output_type": "stream",
     "text": [
      "C:\\ProgramData\\Anaconda3\\lib\\site-packages\\statsmodels\\compat\\pandas.py:56: FutureWarning: The pandas.core.datetools module is deprecated and will be removed in a future version. Please use the pandas.tseries module instead.\n",
      "  from pandas.core import datetools\n"
     ]
    }
   ],
   "source": [
    "import pandas as pd\n",
    "import numpy as np\n",
    "%matplotlib inline\n",
    "import matplotlib.pyplot as plt\n",
    "import seaborn as sns\n",
    "import sklearn\n",
    "import scipy\n",
    "import math\n",
    "import pylab as rcParams\n",
    "import statsmodels.api as sm\n",
    "from matplotlib.pyplot import figure\n",
    "from statsmodels.graphics.gofplots import ProbPlot\n",
    "from sklearn.linear_model import LogisticRegression\n",
    "from sklearn.linear_model import LinearRegression\n",
    "from sklearn.preprocessing import scale\n",
    "from sklearn import metrics\n",
    "from sklearn import preprocessing\n",
    "from sklearn import linear_model\n",
    "from statsmodels.formula.api import ols\n",
    "from statsmodels.tools import add_constant"
   ]
  },
  {
   "cell_type": "code",
   "execution_count": 2,
   "metadata": {
    "collapsed": true
   },
   "outputs": [],
   "source": [
    "choice = pd.read_csv(\"E:/Data Science/DataCamp/Building Response Model R/mychoice.csv\",sep=\",\")"
   ]
  },
  {
   "cell_type": "markdown",
   "metadata": {},
   "source": [
    "## Customer purchases\n",
    "\n",
    "The business with the hops is highly competitive. The main competitor of Hoppiness is the nation-wide offered brand Bud. Developing an effective marketing strategy requires the analysis of Hoppiness purchases in comparison to Bud.\n",
    "\n",
    "The data sheet named choice.data is already loaded for you. You can use the function display the structure and the first few observations of sales.data."
   ]
  },
  {
   "cell_type": "code",
   "execution_count": 3,
   "metadata": {},
   "outputs": [
    {
     "data": {
      "text/html": [
       "<div>\n",
       "<style>\n",
       "    .dataframe thead tr:only-child th {\n",
       "        text-align: right;\n",
       "    }\n",
       "\n",
       "    .dataframe thead th {\n",
       "        text-align: left;\n",
       "    }\n",
       "\n",
       "    .dataframe tbody tr th {\n",
       "        vertical-align: top;\n",
       "    }\n",
       "</style>\n",
       "<table border=\"1\" class=\"dataframe\">\n",
       "  <thead>\n",
       "    <tr style=\"text-align: right;\">\n",
       "      <th></th>\n",
       "      <th>OBS</th>\n",
       "      <th>HOUSEHOLDID</th>\n",
       "      <th>LASTPURCHASE</th>\n",
       "      <th>BUD</th>\n",
       "      <th>HOPPINESS</th>\n",
       "      <th>PRICE.BUD</th>\n",
       "      <th>PRICE.HOP</th>\n",
       "      <th>DISPL.BUD</th>\n",
       "      <th>DISPL.HOP</th>\n",
       "      <th>FEAT.BUD</th>\n",
       "      <th>FEAT.HOP</th>\n",
       "      <th>FEATDISPL.BUD</th>\n",
       "      <th>FEATDISPL.HOP</th>\n",
       "    </tr>\n",
       "  </thead>\n",
       "  <tbody>\n",
       "    <tr>\n",
       "      <th>0</th>\n",
       "      <td>1</td>\n",
       "      <td>1</td>\n",
       "      <td>0</td>\n",
       "      <td>1</td>\n",
       "      <td>0</td>\n",
       "      <td>0.052</td>\n",
       "      <td>0.034</td>\n",
       "      <td>0</td>\n",
       "      <td>0</td>\n",
       "      <td>0</td>\n",
       "      <td>0</td>\n",
       "      <td>0</td>\n",
       "      <td>0</td>\n",
       "    </tr>\n",
       "    <tr>\n",
       "      <th>1</th>\n",
       "      <td>2</td>\n",
       "      <td>1</td>\n",
       "      <td>0</td>\n",
       "      <td>1</td>\n",
       "      <td>0</td>\n",
       "      <td>0.052</td>\n",
       "      <td>0.044</td>\n",
       "      <td>0</td>\n",
       "      <td>0</td>\n",
       "      <td>0</td>\n",
       "      <td>0</td>\n",
       "      <td>0</td>\n",
       "      <td>0</td>\n",
       "    </tr>\n",
       "    <tr>\n",
       "      <th>2</th>\n",
       "      <td>3</td>\n",
       "      <td>1</td>\n",
       "      <td>0</td>\n",
       "      <td>1</td>\n",
       "      <td>0</td>\n",
       "      <td>0.046</td>\n",
       "      <td>0.048</td>\n",
       "      <td>0</td>\n",
       "      <td>0</td>\n",
       "      <td>1</td>\n",
       "      <td>0</td>\n",
       "      <td>0</td>\n",
       "      <td>0</td>\n",
       "    </tr>\n",
       "    <tr>\n",
       "      <th>3</th>\n",
       "      <td>4</td>\n",
       "      <td>1</td>\n",
       "      <td>0</td>\n",
       "      <td>1</td>\n",
       "      <td>0</td>\n",
       "      <td>0.052</td>\n",
       "      <td>0.034</td>\n",
       "      <td>0</td>\n",
       "      <td>0</td>\n",
       "      <td>0</td>\n",
       "      <td>0</td>\n",
       "      <td>0</td>\n",
       "      <td>0</td>\n",
       "    </tr>\n",
       "    <tr>\n",
       "      <th>4</th>\n",
       "      <td>5</td>\n",
       "      <td>1</td>\n",
       "      <td>0</td>\n",
       "      <td>1</td>\n",
       "      <td>0</td>\n",
       "      <td>0.046</td>\n",
       "      <td>0.048</td>\n",
       "      <td>0</td>\n",
       "      <td>0</td>\n",
       "      <td>1</td>\n",
       "      <td>0</td>\n",
       "      <td>0</td>\n",
       "      <td>0</td>\n",
       "    </tr>\n",
       "  </tbody>\n",
       "</table>\n",
       "</div>"
      ],
      "text/plain": [
       "   OBS  HOUSEHOLDID  LASTPURCHASE  BUD  HOPPINESS  PRICE.BUD  PRICE.HOP  \\\n",
       "0    1            1             0    1          0      0.052      0.034   \n",
       "1    2            1             0    1          0      0.052      0.044   \n",
       "2    3            1             0    1          0      0.046      0.048   \n",
       "3    4            1             0    1          0      0.052      0.034   \n",
       "4    5            1             0    1          0      0.046      0.048   \n",
       "\n",
       "   DISPL.BUD  DISPL.HOP  FEAT.BUD  FEAT.HOP  FEATDISPL.BUD  FEATDISPL.HOP  \n",
       "0          0          0         0         0              0              0  \n",
       "1          0          0         0         0              0              0  \n",
       "2          0          0         1         0              0              0  \n",
       "3          0          0         0         0              0              0  \n",
       "4          0          0         1         0              0              0  "
      ]
     },
     "execution_count": 3,
     "metadata": {},
     "output_type": "execute_result"
    }
   ],
   "source": [
    "choice.head()"
   ]
  },
  {
   "cell_type": "code",
   "execution_count": 4,
   "metadata": {},
   "outputs": [
    {
     "data": {
      "text/plain": [
       "OBS                int64\n",
       "HOUSEHOLDID        int64\n",
       "LASTPURCHASE       int64\n",
       "BUD                int64\n",
       "HOPPINESS          int64\n",
       "PRICE.BUD        float64\n",
       "PRICE.HOP        float64\n",
       "DISPL.BUD          int64\n",
       "DISPL.HOP          int64\n",
       "FEAT.BUD           int64\n",
       "FEAT.HOP           int64\n",
       "FEATDISPL.BUD      int64\n",
       "FEATDISPL.HOP      int64\n",
       "dtype: object"
      ]
     },
     "execution_count": 4,
     "metadata": {},
     "output_type": "execute_result"
    }
   ],
   "source": [
    "choice.dtypes"
   ]
  },
  {
   "cell_type": "markdown",
   "metadata": {},
   "source": [
    "## Summarizing the data\n",
    "\n",
    "You start by summarizing the purchases and prices for HOPPINESS and BUD. You calculate the mean of the purchases as well as the average PRICE.HOP and PRICE.BUD levels by using the function colMeans(). The function colMeans() calculates the means across all specified columns simultaneously."
   ]
  },
  {
   "cell_type": "code",
   "execution_count": 5,
   "metadata": {},
   "outputs": [
    {
     "data": {
      "text/html": [
       "<div>\n",
       "<style>\n",
       "    .dataframe thead tr:only-child th {\n",
       "        text-align: right;\n",
       "    }\n",
       "\n",
       "    .dataframe thead th {\n",
       "        text-align: left;\n",
       "    }\n",
       "\n",
       "    .dataframe tbody tr th {\n",
       "        vertical-align: top;\n",
       "    }\n",
       "</style>\n",
       "<table border=\"1\" class=\"dataframe\">\n",
       "  <thead>\n",
       "    <tr style=\"text-align: right;\">\n",
       "      <th></th>\n",
       "      <th>OBS</th>\n",
       "      <th>HOUSEHOLDID</th>\n",
       "      <th>LASTPURCHASE</th>\n",
       "      <th>BUD</th>\n",
       "      <th>HOPPINESS</th>\n",
       "      <th>PRICE.BUD</th>\n",
       "      <th>PRICE.HOP</th>\n",
       "      <th>DISPL.BUD</th>\n",
       "      <th>DISPL.HOP</th>\n",
       "      <th>FEAT.BUD</th>\n",
       "      <th>FEAT.HOP</th>\n",
       "      <th>FEATDISPL.BUD</th>\n",
       "      <th>FEATDISPL.HOP</th>\n",
       "    </tr>\n",
       "  </thead>\n",
       "  <tbody>\n",
       "    <tr>\n",
       "      <th>count</th>\n",
       "      <td>2798.000000</td>\n",
       "      <td>2798.000000</td>\n",
       "      <td>2798.000000</td>\n",
       "      <td>2798.000000</td>\n",
       "      <td>2798.000000</td>\n",
       "      <td>2798.000000</td>\n",
       "      <td>2798.000000</td>\n",
       "      <td>2798.000000</td>\n",
       "      <td>2798.000000</td>\n",
       "      <td>2798.000000</td>\n",
       "      <td>2798.000000</td>\n",
       "      <td>2798.000000</td>\n",
       "      <td>2798.000000</td>\n",
       "    </tr>\n",
       "    <tr>\n",
       "      <th>mean</th>\n",
       "      <td>1399.500000</td>\n",
       "      <td>150.077555</td>\n",
       "      <td>0.107219</td>\n",
       "      <td>0.899929</td>\n",
       "      <td>0.100071</td>\n",
       "      <td>0.034828</td>\n",
       "      <td>0.033555</td>\n",
       "      <td>0.159757</td>\n",
       "      <td>0.035382</td>\n",
       "      <td>0.124732</td>\n",
       "      <td>0.036455</td>\n",
       "      <td>0.037527</td>\n",
       "      <td>0.009292</td>\n",
       "    </tr>\n",
       "    <tr>\n",
       "      <th>std</th>\n",
       "      <td>807.857351</td>\n",
       "      <td>86.322793</td>\n",
       "      <td>0.309447</td>\n",
       "      <td>0.300149</td>\n",
       "      <td>0.300149</td>\n",
       "      <td>0.008974</td>\n",
       "      <td>0.005307</td>\n",
       "      <td>0.366446</td>\n",
       "      <td>0.184777</td>\n",
       "      <td>0.330474</td>\n",
       "      <td>0.187452</td>\n",
       "      <td>0.190083</td>\n",
       "      <td>0.095965</td>\n",
       "    </tr>\n",
       "    <tr>\n",
       "      <th>min</th>\n",
       "      <td>1.000000</td>\n",
       "      <td>1.000000</td>\n",
       "      <td>0.000000</td>\n",
       "      <td>0.000000</td>\n",
       "      <td>0.000000</td>\n",
       "      <td>0.001000</td>\n",
       "      <td>0.003000</td>\n",
       "      <td>0.000000</td>\n",
       "      <td>0.000000</td>\n",
       "      <td>0.000000</td>\n",
       "      <td>0.000000</td>\n",
       "      <td>0.000000</td>\n",
       "      <td>0.000000</td>\n",
       "    </tr>\n",
       "    <tr>\n",
       "      <th>25%</th>\n",
       "      <td>700.250000</td>\n",
       "      <td>77.000000</td>\n",
       "      <td>0.000000</td>\n",
       "      <td>1.000000</td>\n",
       "      <td>0.000000</td>\n",
       "      <td>0.030000</td>\n",
       "      <td>0.031000</td>\n",
       "      <td>0.000000</td>\n",
       "      <td>0.000000</td>\n",
       "      <td>0.000000</td>\n",
       "      <td>0.000000</td>\n",
       "      <td>0.000000</td>\n",
       "      <td>0.000000</td>\n",
       "    </tr>\n",
       "    <tr>\n",
       "      <th>50%</th>\n",
       "      <td>1399.500000</td>\n",
       "      <td>154.000000</td>\n",
       "      <td>0.000000</td>\n",
       "      <td>1.000000</td>\n",
       "      <td>0.000000</td>\n",
       "      <td>0.034000</td>\n",
       "      <td>0.034000</td>\n",
       "      <td>0.000000</td>\n",
       "      <td>0.000000</td>\n",
       "      <td>0.000000</td>\n",
       "      <td>0.000000</td>\n",
       "      <td>0.000000</td>\n",
       "      <td>0.000000</td>\n",
       "    </tr>\n",
       "    <tr>\n",
       "      <th>75%</th>\n",
       "      <td>2098.750000</td>\n",
       "      <td>224.000000</td>\n",
       "      <td>0.000000</td>\n",
       "      <td>1.000000</td>\n",
       "      <td>0.000000</td>\n",
       "      <td>0.042000</td>\n",
       "      <td>0.036000</td>\n",
       "      <td>0.000000</td>\n",
       "      <td>0.000000</td>\n",
       "      <td>0.000000</td>\n",
       "      <td>0.000000</td>\n",
       "      <td>0.000000</td>\n",
       "      <td>0.000000</td>\n",
       "    </tr>\n",
       "    <tr>\n",
       "      <th>max</th>\n",
       "      <td>2798.000000</td>\n",
       "      <td>300.000000</td>\n",
       "      <td>1.000000</td>\n",
       "      <td>1.000000</td>\n",
       "      <td>1.000000</td>\n",
       "      <td>0.061000</td>\n",
       "      <td>0.087000</td>\n",
       "      <td>1.000000</td>\n",
       "      <td>1.000000</td>\n",
       "      <td>1.000000</td>\n",
       "      <td>1.000000</td>\n",
       "      <td>1.000000</td>\n",
       "      <td>1.000000</td>\n",
       "    </tr>\n",
       "  </tbody>\n",
       "</table>\n",
       "</div>"
      ],
      "text/plain": [
       "               OBS  HOUSEHOLDID  LASTPURCHASE          BUD    HOPPINESS  \\\n",
       "count  2798.000000  2798.000000   2798.000000  2798.000000  2798.000000   \n",
       "mean   1399.500000   150.077555      0.107219     0.899929     0.100071   \n",
       "std     807.857351    86.322793      0.309447     0.300149     0.300149   \n",
       "min       1.000000     1.000000      0.000000     0.000000     0.000000   \n",
       "25%     700.250000    77.000000      0.000000     1.000000     0.000000   \n",
       "50%    1399.500000   154.000000      0.000000     1.000000     0.000000   \n",
       "75%    2098.750000   224.000000      0.000000     1.000000     0.000000   \n",
       "max    2798.000000   300.000000      1.000000     1.000000     1.000000   \n",
       "\n",
       "         PRICE.BUD    PRICE.HOP    DISPL.BUD    DISPL.HOP     FEAT.BUD  \\\n",
       "count  2798.000000  2798.000000  2798.000000  2798.000000  2798.000000   \n",
       "mean      0.034828     0.033555     0.159757     0.035382     0.124732   \n",
       "std       0.008974     0.005307     0.366446     0.184777     0.330474   \n",
       "min       0.001000     0.003000     0.000000     0.000000     0.000000   \n",
       "25%       0.030000     0.031000     0.000000     0.000000     0.000000   \n",
       "50%       0.034000     0.034000     0.000000     0.000000     0.000000   \n",
       "75%       0.042000     0.036000     0.000000     0.000000     0.000000   \n",
       "max       0.061000     0.087000     1.000000     1.000000     1.000000   \n",
       "\n",
       "          FEAT.HOP  FEATDISPL.BUD  FEATDISPL.HOP  \n",
       "count  2798.000000    2798.000000    2798.000000  \n",
       "mean      0.036455       0.037527       0.009292  \n",
       "std       0.187452       0.190083       0.095965  \n",
       "min       0.000000       0.000000       0.000000  \n",
       "25%       0.000000       0.000000       0.000000  \n",
       "50%       0.000000       0.000000       0.000000  \n",
       "75%       0.000000       0.000000       0.000000  \n",
       "max       1.000000       1.000000       1.000000  "
      ]
     },
     "execution_count": 5,
     "metadata": {},
     "output_type": "execute_result"
    }
   ],
   "source": [
    "choice.describe()"
   ]
  },
  {
   "cell_type": "markdown",
   "metadata": {},
   "source": [
    "## A linear probability model for beer demand\n",
    "\n",
    "To see how much of an effect changes in price have on the purchases of Hoppiness, you display the relationship HOPPINESS ~ PRICE.HOP by using the function plot()\n",
    "\n",
    "Again, you assume the relationship between HOPPINESS and PRICE.HOP to be linear by using the function lm(). You add the model predictions resulting from the model coefficients directly to the graph by using the function regplot()."
   ]
  },
  {
   "cell_type": "code",
   "execution_count": 9,
   "metadata": {},
   "outputs": [
    {
     "name": "stdout",
     "output_type": "stream",
     "text": [
      "Coefficients: \n",
      " [[-16.20277471]]\n",
      "Intercept: \n",
      " [ 0.64375043]\n"
     ]
    }
   ],
   "source": [
    "X = choice[[\"PRICE.HOP\"]]\n",
    "y = choice[[\"HOPPINESS\"]]\n",
    "ProbabilityModel = LinearRegression().fit(X,y)\n",
    "print('Coefficients: \\n',ProbabilityModel.coef_)\n",
    "print('Intercept: \\n', ProbabilityModel.intercept_)"
   ]
  },
  {
   "cell_type": "code",
   "execution_count": 6,
   "metadata": {},
   "outputs": [
    {
     "data": {
      "image/png": "[encoded data removed]",
      "text/plain": [
       "<matplotlib.figure.Figure at 0x184ebdf8a20>"
      ]
     },
     "metadata": {},
     "output_type": "display_data"
    }
   ],
   "source": [
    "# Plot outputs\n",
    "plt.figure(figsize=(7,5))\n",
    "sns.plt.ylim(-0.1, 1.1)\n",
    "sns.regplot(data=choice,\n",
    "           x='PRICE.HOP',\n",
    "           y='HOPPINESS')\n",
    "plt.show()"
   ]
  },
  {
   "cell_type": "markdown",
   "metadata": {},
   "source": [
    "## Competition\n",
    "\n",
    "Developing an effective pricing strategy for Hoppiness also requires considering the prices for Bud. The best way to consider Bud in your model is by price comparisons. You define a new variable price.ratio indicating the ratio of PRICE.HOP to PRICE.BUD. To ensure symmetry thus, to ensure that the price ratio of Hoppiness to Bud has the same magnitude as the price ratio of Bud to Hoppiness, you additionally take the log().\n",
    "\n",
    "To investigate the effects of changes in the price ratio on the purchase probabilities, you display the relation HOPPINESS ~ price.ratio by using the function plot(). The relation is again described by using the function lm(). The corresponding model predictions are added to the graph by using the function regplot()."
   ]
  },
  {
   "cell_type": "code",
   "execution_count": 11,
   "metadata": {
    "collapsed": true
   },
   "outputs": [],
   "source": [
    "price_ratio = np.log(choice[\"PRICE.HOP\"]/choice[\"PRICE.BUD\"])"
   ]
  },
  {
   "cell_type": "code",
   "execution_count": 12,
   "metadata": {},
   "outputs": [
    {
     "data": {
      "text/plain": [
       "0   -0.424883\n",
       "1   -0.167054\n",
       "2    0.042560\n",
       "3   -0.424883\n",
       "4    0.042560\n",
       "dtype: float64"
      ]
     },
     "execution_count": 12,
     "metadata": {},
     "output_type": "execute_result"
    }
   ],
   "source": [
    "price_ratio.head(5)"
   ]
  },
  {
   "cell_type": "code",
   "execution_count": 13,
   "metadata": {
    "collapsed": true
   },
   "outputs": [],
   "source": [
    "choice[\"P_Ratio\"] = price_ratio"
   ]
  },
  {
   "cell_type": "code",
   "execution_count": 14,
   "metadata": {},
   "outputs": [
    {
     "data": {
      "image/png": "[encoded data removed]",
      "text/plain": [
       "<matplotlib.figure.Figure at 0x184ebfde1d0>"
      ]
     },
     "metadata": {},
     "output_type": "display_data"
    }
   ],
   "source": [
    "# Plot outputs\n",
    "plt.figure(figsize=(7,5))\n",
    "sns.plt.ylim(-0.1, 1.1)\n",
    "sns.regplot(data=choice,\n",
    "           x='P_Ratio',\n",
    "           y='HOPPINESS')\n",
    "plt.show()"
   ]
  },
  {
   "cell_type": "markdown",
   "metadata": {},
   "source": [
    "## A logistic model for beer demand\n",
    "\n",
    "The linear model does not fit the data when it comes to predicting purchase probabilities. This time, you use the function GLM() to describe the relation HOPPINESS ~ price.ratio\n",
    "\n",
    "As HOPPINESS is a binary variable, you also have to specify the family argument as binomial. As usual, the estimated coefficients are obtained by using the function coef()"
   ]
  },
  {
   "cell_type": "code",
   "execution_count": 15,
   "metadata": {},
   "outputs": [
    {
     "name": "stderr",
     "output_type": "stream",
     "text": [
      "C:\\ProgramData\\Anaconda3\\lib\\site-packages\\sklearn\\utils\\validation.py:526: DataConversionWarning: A column-vector y was passed when a 1d array was expected. Please change the shape of y to (n_samples, ), for example using ravel().\n",
      "  y = column_or_1d(y, warn=True)\n"
     ]
    }
   ],
   "source": [
    "clf = LogisticRegression(random_state=0, solver='lbfgs',\n",
    "                             multi_class='multinomial').fit(choice[[\"P_Ratio\"]], choice[[\"HOPPINESS\"]])"
   ]
  },
  {
   "cell_type": "code",
   "execution_count": 16,
   "metadata": {},
   "outputs": [
    {
     "name": "stdout",
     "output_type": "stream",
     "text": [
      "Optimization terminated successfully.\n",
      "         Current function value: 0.673635\n",
      "         Iterations 5\n",
      "                          MNLogit Regression Results                          \n",
      "==============================================================================\n",
      "Dep. Variable:              HOPPINESS   No. Observations:                 2798\n",
      "Model:                        MNLogit   Df Residuals:                     2797\n",
      "Method:                           MLE   Df Model:                            0\n",
      "Date:                Fri, 01 Feb 2019   Pseudo R-squ.:                  -1.071\n",
      "Time:                        09:26:29   Log-Likelihood:                -1884.8\n",
      "converged:                       True   LL-Null:                       -910.02\n",
      "                                        LLR p-value:                       nan\n",
      "===============================================================================\n",
      "HOPPINESS=1       coef    std err          z      P>|z|      [0.025      0.975]\n",
      "-------------------------------------------------------------------------------\n",
      "P_Ratio        -1.1640      0.117     -9.927      0.000      -1.394      -0.934\n",
      "===============================================================================\n"
     ]
    }
   ],
   "source": [
    "logistic_model = sm.MNLogit(choice[\"HOPPINESS\"],choice[\"P_Ratio\"])\n",
    "logitMod = logistic_model.fit()\n",
    "print(logitMod.summary())"
   ]
  },
  {
   "cell_type": "code",
   "execution_count": 20,
   "metadata": {},
   "outputs": [
    {
     "name": "stdout",
     "output_type": "stream",
     "text": [
      "       MNLogit Marginal Effects      \n",
      "=====================================\n",
      "Dep. Variable:              HOPPINESS\n",
      "Method:                          dydx\n",
      "At:                           overall\n",
      "===============================================================================\n",
      "HOPPINESS=0      dy/dx    std err          z      P>|z|      [0.025      0.975]\n",
      "-------------------------------------------------------------------------------\n",
      "P_Ratio         0.2800      0.026     10.668      0.000       0.229       0.331\n",
      "-------------------------------------------------------------------------------\n",
      "HOPPINESS=1      dy/dx    std err          z      P>|z|      [0.025      0.975]\n",
      "-------------------------------------------------------------------------------\n",
      "P_Ratio        -0.2800      0.026    -10.668      0.000      -0.331      -0.229\n",
      "===============================================================================\n"
     ]
    }
   ],
   "source": [
    "mdl_margeff = logitMod.get_margeff()\n",
    "print(mdl_margeff.summary())"
   ]
  },
  {
   "cell_type": "code",
   "execution_count": 23,
   "metadata": {},
   "outputs": [
    {
     "name": "stdout",
     "output_type": "stream",
     "text": [
      "                 Generalized Linear Model Regression Results                  \n",
      "==============================================================================\n",
      "Dep. Variable:              HOPPINESS   No. Observations:                 2798\n",
      "Model:                            GLM   Df Residuals:                     2797\n",
      "Model Family:                Binomial   Df Model:                            0\n",
      "Link Function:                  logit   Scale:                             1.0\n",
      "Method:                          IRLS   Log-Likelihood:                -1884.8\n",
      "Date:                Fri, 01 Feb 2019   Deviance:                       3769.7\n",
      "Time:                        09:36:12   Pearson chi2:                 2.78e+03\n",
      "No. Iterations:                     4                                         \n",
      "==============================================================================\n",
      "                 coef    std err          z      P>|z|      [0.025      0.975]\n",
      "------------------------------------------------------------------------------\n",
      "P_Ratio       -1.1640      0.117     -9.927      0.000      -1.394      -0.934\n",
      "==============================================================================\n",
      "3771.65932801\n",
      "-18429.1791262\n"
     ]
    }
   ],
   "source": [
    "glm_binom = sm.GLM(choice[\"HOPPINESS\"], choice[[\"P_Ratio\"]], family=sm.families.Binomial())\n",
    "glmfit = glm_binom.fit()\n",
    "print(glmfit.summary())\n",
    "print(glmfit.aic)\n",
    "print(glmfit.bic)"
   ]
  },
  {
   "cell_type": "code",
   "execution_count": 18,
   "metadata": {},
   "outputs": [
    {
     "name": "stdout",
     "output_type": "stream",
     "text": [
      "[[-3.1313977]]\n",
      "[-1.71479244]\n"
     ]
    }
   ],
   "source": [
    "print(clf.coef_)\n",
    "print(clf.intercept_)"
   ]
  },
  {
   "cell_type": "markdown",
   "metadata": {},
   "source": [
    "## Predictive performance\n",
    "\n",
    "The glm() function is used because you need a response function that bounds the model predictions between zero and one. This effect is best illustrated in a graph.\n",
    "\n",
    "Again, you display the relation HOPPINESS ~ price.ratio by using the function plot(). You obtain the model predictions by using the function fitted() on the logistic.model object. To add the corresponding logistic function to the graph you need to fit a curve (not a straight line) through the predicted data values.\n",
    "\n",
    "Therefore, you first sort the predicted values together with the price.ratio values in decreasing order by using the function order(). Afterwards you join the sorted data points sequentially by using the function lines()."
   ]
  },
  {
   "cell_type": "code",
   "execution_count": 63,
   "metadata": {},
   "outputs": [
    {
     "data": {
      "image/png": "[encoded data removed]",
      "text/plain": [
       "<matplotlib.figure.Figure at 0x19f2d89b5f8>"
      ]
     },
     "metadata": {},
     "output_type": "display_data"
    }
   ],
   "source": [
    "# Plot outputs\n",
    "plt.figure(figsize=(7,5))\n",
    "sns.plt.ylim(-0.1, 1.1)\n",
    "sns.regplot(data=choice,\n",
    "           x='P_Ratio',\n",
    "           y='HOPPINESS',\n",
    "           logistic=True)\n",
    "plt.show()"
   ]
  },
  {
   "cell_type": "markdown",
   "metadata": {},
   "source": [
    "## Average marginal effects\n",
    "\n",
    "The logistic response function is essentially nonlinear. Therefore, it is not immediately clear what is the effect of a unit change in the price ratio on the probability that a customer purchases Hoppiness. A solution is to interpret the effect of a unit change averaged over all customers.\n",
    "\n",
    "This average marginal effect can be derived by using the function margins(). The function is loaded from the add-on package margins. Finally, you will compare the average marginal effect for price.ratio of the logistic.model to the price.ratio coefficient of the probability.model."
   ]
  },
  {
   "cell_type": "code",
   "execution_count": 62,
   "metadata": {},
   "outputs": [
    {
     "name": "stdout",
     "output_type": "stream",
     "text": [
      "Optimization terminated successfully.\n",
      "         Current function value: 0.673635\n",
      "         Iterations: 5\n",
      "         Function evaluations: 7\n",
      "         Gradient evaluations: 7\n"
     ]
    }
   ],
   "source": [
    "from statsmodels.discrete.discrete_model import Logit\n",
    "\n",
    "logit = Logit(choice[[\"HOPPINESS\"]],choice[[\"P_Ratio\"]])\n",
    "res = logit.fit(method='bfgs')\n",
    "# marginal effects at the mean\n",
    "me = res.get_margeff(at='mean').summary()"
   ]
  },
  {
   "cell_type": "markdown",
   "metadata": {},
   "source": [
    "## Effects plots\n",
    "\n",
    "One way to better understand the marginal effect of a unit change in price ratio is to use the logistic response model with some typical values and graph the predictions.\n",
    "\n",
    "You can do this by using the function cplot() from the margins package. The function cplot() takes on the logistic.model object, the name of the predictor variable and the corresponding typical values as arguments. You assume the typical values for price.ratio to be in the range from -1 to 1. \n",
    "\n",
    "You define a sequence of numbers ranging from-1to1and having increments of 0.10 by using the function seq()`."
   ]
  },
  {
   "cell_type": "code",
   "execution_count": 21,
   "metadata": {},
   "outputs": [
    {
     "data": {
      "image/png": "[encoded data removed]",
      "text/plain": [
       "<matplotlib.figure.Figure at 0x184ec532f60>"
      ]
     },
     "metadata": {},
     "output_type": "display_data"
    }
   ],
   "source": [
    "# Plot outputs\n",
    "plt.figure(figsize=(7,5))\n",
    "sns.plt.ylim(-0.1, 1.1)\n",
    "sns.plt.xlim(-1.25, 1.25)\n",
    "sns.regplot(data=choice,\n",
    "           x='P_Ratio',\n",
    "           y='HOPPINESS',\n",
    "           logistic=True)\n",
    "plt.show()"
   ]
  },
  {
   "cell_type": "markdown",
   "metadata": {},
   "source": [
    "## Extending the logistic response model\n",
    "\n",
    "Remember, the brewery installed point-of-sales displays to increase Hoppiness purchases. To stand out as a brand, the brewery additionally featured Hoppiness by highlighting it's regional character. These featuring activities had also been combined with point-of-sales displays.\n",
    "\n",
    "You start with summarizing the DISPL.HOP, FEAT.HOP and FEATDISPL.HOP actions by using the function summary().\n",
    "\n",
    "Next, you explain the purchase probabilities for HOPPINESS by price.ratio, DISPL.HOP, FEAT.HOP and FEATDISPL.HOP. Again, you use the function glm() and the family argument binomial.\n",
    "\n",
    "Finally, you calculate the marginals effects of the predictors by using the function margins()."
   ]
  },
  {
   "cell_type": "code",
   "execution_count": 31,
   "metadata": {},
   "outputs": [
    {
     "name": "stdout",
     "output_type": "stream",
     "text": [
      "                 Generalized Linear Model Regression Results                  \n",
      "==============================================================================\n",
      "Dep. Variable:              HOPPINESS   No. Observations:                 2798\n",
      "Model:                            GLM   Df Residuals:                     2794\n",
      "Model Family:                Binomial   Df Model:                            3\n",
      "Link Function:                  logit   Scale:                             1.0\n",
      "Method:                          IRLS   Log-Likelihood:                -1832.5\n",
      "Date:                Fri, 01 Feb 2019   Deviance:                       3664.9\n",
      "Time:                        09:49:17   Pearson chi2:                 2.75e+03\n",
      "No. Iterations:                     5                                         \n",
      "=================================================================================\n",
      "                    coef    std err          z      P>|z|      [0.025      0.975]\n",
      "---------------------------------------------------------------------------------\n",
      "P_Ratio          -1.3068      0.125    -10.465      0.000      -1.552      -1.062\n",
      "DISPL.HOP        -1.2786      0.223     -5.731      0.000      -1.716      -0.841\n",
      "FEAT.HOP         -2.1471      0.336     -6.397      0.000      -2.805      -1.489\n",
      "FEATDISPL.HOP    -0.3692      0.398     -0.928      0.354      -1.149       0.411\n",
      "=================================================================================\n"
     ]
    }
   ],
   "source": [
    "X_ex = choice[[\"HOPPINESS\"]]\n",
    "y_ex = choice[[\"P_Ratio\",\"DISPL.HOP\",\"FEAT.HOP\",\"FEATDISPL.HOP\"]]\n",
    "extended_model = sm.GLM(X_ex, y_ex, family=sm.families.Binomial())\n",
    "extendfit = extended_model.fit()\n",
    "print(extendfit.summary())"
   ]
  },
  {
   "cell_type": "code",
   "execution_count": 32,
   "metadata": {},
   "outputs": [
    {
     "name": "stdout",
     "output_type": "stream",
     "text": [
      "3672.90979455\n",
      "-18510.1186792\n"
     ]
    }
   ],
   "source": [
    "print(extendfit.aic)\n",
    "print(extendfit.bic)"
   ]
  },
  {
   "cell_type": "code",
   "execution_count": 33,
   "metadata": {},
   "outputs": [
    {
     "name": "stdout",
     "output_type": "stream",
     "text": [
      "                 Generalized Linear Model Regression Results                  \n",
      "==============================================================================\n",
      "Dep. Variable:              HOPPINESS   No. Observations:                 2798\n",
      "Model:                            GLM   Df Residuals:                     2794\n",
      "Model Family:        NegativeBinomial   Df Model:                            3\n",
      "Link Function:                    log   Scale:                  0.463273325162\n",
      "Method:                          IRLS   Log-Likelihood:                -2054.5\n",
      "Date:                Fri, 01 Feb 2019   Deviance:                       3332.8\n",
      "Time:                        09:49:20   Pearson chi2:                 1.29e+03\n",
      "No. Iterations:                    14                                         \n",
      "=================================================================================\n",
      "                    coef    std err          z      P>|z|      [0.025      0.975]\n",
      "---------------------------------------------------------------------------------\n",
      "P_Ratio          -0.5399      0.054    -10.008      0.000      -0.646      -0.434\n",
      "DISPL.HOP        -1.3767      0.142     -9.674      0.000      -1.656      -1.098\n",
      "FEAT.HOP         -2.2887      0.227    -10.076      0.000      -2.734      -1.843\n",
      "FEATDISPL.HOP    -0.8744      0.234     -3.739      0.000      -1.333      -0.416\n",
      "=================================================================================\n"
     ]
    }
   ],
   "source": [
    "null_model = sm.GLM(X_ex,y_ex, family=sm.families.NegativeBinomial())\n",
    "nullfit = null_model.fit()\n",
    "print(nullfit.summary())"
   ]
  },
  {
   "cell_type": "code",
   "execution_count": 37,
   "metadata": {},
   "outputs": [
    {
     "name": "stdout",
     "output_type": "stream",
     "text": [
      "1820.04305012\n",
      "3664.90979455\n",
      "1099.8521468\n",
      "3332.77140246\n"
     ]
    }
   ],
   "source": [
    "print(extendfit.null_deviance) \n",
    "print(extendfit.deviance)\n",
    "print(nullfit.null_deviance) \n",
    "print(nullfit.deviance)"
   ]
  },
  {
   "cell_type": "code",
   "execution_count": 39,
   "metadata": {
    "collapsed": true
   },
   "outputs": [],
   "source": [
    "model_fitted_y = extendfit.fittedvalues"
   ]
  },
  {
   "cell_type": "markdown",
   "metadata": {},
   "source": [
    "## Classifications\n",
    "\n",
    "The management of the brewery cannot really deal with \"purchase probabilities\". They want to have a model that predicts purchases. One way to solve this issue is to classify the predicted probabilities into predicted purchase events for Hoppiness.\n",
    "\n",
    "Again, you obtain the predicted purchase probabilities by using the function fitted() on the extended.model object. You naively classify the predictions into 1, if the predicted purchase probability exceeds 0.5, and 0 otherwise. \n",
    "\n",
    "The function ifelse() allows you to do this. Afterwards, you summarize the classified purchase events by using the functions table() and mean()."
   ]
  },
  {
   "cell_type": "code",
   "execution_count": 49,
   "metadata": {},
   "outputs": [],
   "source": [
    "a = []\n",
    "b = []\n",
    "\n",
    "for i in (model_fitted_y):\n",
    "    \n",
    "    if i < 0.5:\n",
    "        a.append(i)\n",
    "    else:\n",
    "        b.append(i)"
   ]
  },
  {
   "cell_type": "code",
   "execution_count": 62,
   "metadata": {},
   "outputs": [
    {
     "name": "stdout",
     "output_type": "stream",
     "text": [
      "1223\n",
      "1575\n"
     ]
    }
   ],
   "source": [
    "print(len(a))\n",
    "print(len(b))"
   ]
  },
  {
   "cell_type": "markdown",
   "metadata": {},
   "source": [
    "## Model confusion\n",
    "\n",
    "On demand, you built a naive classifier. The brewery's management wants to work with these figures to adjust their marketing plan. So, is your classification really correct?\n",
    "\n",
    "By cross-tabulating the observed vs. the classified purchase events you can check the performance of your classifier. Cross-tabulation can be done by using the function table() on the predicted purchase events together with the true observed purchases. \n",
    "\n",
    "To obtain the more convenient proportions you additionally divide the table by the total number of observations. Alternatively, you can use the function prop.table() to convert the numbers in the table into relative numbers."
   ]
  },
  {
   "cell_type": "code",
   "execution_count": null,
   "metadata": {
    "collapsed": true
   },
   "outputs": [],
   "source": []
  },
  {
   "cell_type": "markdown",
   "metadata": {},
   "source": [
    "## ROC curves\n",
    "\n",
    "Cut-off values other than 0.5 can be chosen as well but, the number of potential cut-offs is high and looking at hundreds of tables can be time-consuming. Creating a ROC curve can help you.\n",
    "\n",
    "Such a graph can be created by using the function roc() from the add-on package pROC. The function roc() takes as inputs the vector of observed responses (typically encoded as 0 and 1) and a vector of predicted values of the same length. \n",
    "\n",
    "Again, you obtain the observed HOPPINESS purchases from the choice.data object. The predicted values are obtained by applying the function fitted() on the extended.model object. The corresponding ROC curve is created by applying the function plot() on the resulting roc object."
   ]
  },
  {
   "cell_type": "code",
   "execution_count": null,
   "metadata": {
    "collapsed": true
   },
   "outputs": [],
   "source": []
  },
  {
   "cell_type": "markdown",
   "metadata": {},
   "source": [
    "## Subsetting\n",
    "\n",
    "Remember, the company wants to expand their business and offer Hoppiness nationwide. Therefore, the model should also work on data obtained from new stores. One possibility to check how your model will perform on new data is to first train your model on one part of the data and then try to predict the remaining part of the data.\n",
    "\n",
    "You create a trainings data set by withholding the last purchase that was recorded for each customer. You can do this by using the function subset() on choice.data and selecting all observations with indicator variable LASTPURCHASE to equal 0. \n",
    "\n",
    "Likewise, you create a test data set by selecting all observations with indicator variable LASTPURCHASE to equal 1."
   ]
  },
  {
   "cell_type": "code",
   "execution_count": null,
   "metadata": {
    "collapsed": true
   },
   "outputs": [],
   "source": []
  },
  {
   "cell_type": "markdown",
   "metadata": {},
   "source": [
    "## Model Training\n",
    "\n",
    "Next, you will estimate a logistic response model on train.data. You use the predictors that remained after model selection to explain the purchase probabilities for HOPPINESS."
   ]
  },
  {
   "cell_type": "code",
   "execution_count": null,
   "metadata": {
    "collapsed": true
   },
   "outputs": [],
   "source": []
  },
  {
   "cell_type": "markdown",
   "metadata": {},
   "source": [
    "## Out-ofsample testing\n",
    "\n",
    "Your goal is to make purchase predictions for new stores based on your estimated model. You check if this goal is viable by using the function predict(). The predict() function retrieves the parameter estimates of train.model to make predictions about the response variable in test.data\n",
    "\n",
    "To obtain predicted values on the scale of the response variable (the predicted purchase probabilities) you have to set the additional type argument to \"response\".\n",
    "\n",
    "Finally, the hold-out predictions are classified into purchases and no-purchases by using the function ifelse() and compared to the observed purchases by using the function table(). Finally, you use the function prop.table() to convert the numbers in the table into relative numbers."
   ]
  },
  {
   "cell_type": "code",
   "execution_count": null,
   "metadata": {
    "collapsed": true
   },
   "outputs": [],
   "source": []
  }
 ],
 "metadata": {
  "kernelspec": {
   "display_name": "Python 3",
   "language": "python",
   "name": "python3"
  },
  "language_info": {
   "codemirror_mode": {
    "name": "ipython",
    "version": 3
   },
   "file_extension": ".py",
   "mimetype": "text/x-python",
   "name": "python",
   "nbconvert_exporter": "python",
   "pygments_lexer": "ipython3",
   "version": "3.6.1"
  }
 },
 "nbformat": 4,
 "nbformat_minor": 2
}
